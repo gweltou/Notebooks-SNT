{
 "cells": [
  {
   "cell_type": "markdown",
   "metadata": {},
   "source": [
    "# Kentel Python3 - Kregiñ e-barzh"
   ]
  },
  {
   "cell_type": "markdown",
   "metadata": {},
   "source": [
    "-- *Ur gentel awenet gant hini Folgert Karsdorp ha Maarten van Gompel*"
   ]
  },
  {
   "cell_type": "markdown",
   "metadata": {},
   "source": [
    "![](https://www.python.org/static/community_logos/python-logo-master-v3-TM.png)"
   ]
  },
  {
   "cell_type": "markdown",
   "metadata": {},
   "source": [
    "---"
   ]
  },
  {
   "cell_type": "code",
   "execution_count": null,
   "metadata": {},
   "outputs": [],
   "source": [
    "print(\"Prest oc'h da gregiñ ?!\")"
   ]
  },
  {
   "cell_type": "markdown",
   "metadata": {},
   "source": [
    "N'eus forzh piv a c'hell deskiñ programiñ hag ar gwellañ doare da zeskiñ a zo klask ober e unan. Er c'hentel-mañ o po tro da skrivañ kalz a kod e Python. Klikit war neusforz peseurt kellig kod, e-giz an hini a-us, ha pouezit war <kbd>MAJ+Entrée</kbd> pe <kbd>Ctrl+Entrée</kbd> evit peurgas ar c'hod.<br>\n",
    "Krogomp dioustu ha skrivomp hor poellad kentañ gant Python !"
   ]
  },
  {
   "cell_type": "markdown",
   "metadata": {},
   "source": [
    "----------"
   ]
  },
  {
   "cell_type": "markdown",
   "metadata": {},
   "source": [
    "### Quiz !"
   ]
  },
  {
   "cell_type": "markdown",
   "metadata": {},
   "source": [
    "Er c'hellig kod dindan, skrivit ur poellad simpl evit jediñ ped munuten a zo e-pad ur sizun.<br>\n",
    "Na zisoñjit ket pouezañ war <kbd>MAJ+Entrée</kbd> evit kaout an disoc'h."
   ]
  },
  {
   "cell_type": "code",
   "execution_count": null,
   "metadata": {},
   "outputs": [],
   "source": [
    "# skrivit ho kod amañ"
   ]
  },
  {
   "cell_type": "markdown",
   "metadata": {},
   "source": [
    "-----------"
   ]
  },
  {
   "cell_type": "markdown",
   "metadata": {},
   "source": [
    "Dreist ! Skrivet ho peus ho poellad kentañ hep sikour ebet ! Kodiñ gant Python a c'hell bezañ ken aes hag implij ur jederezhig, met tu 'zo ober kalz muioc'h c'hoazh. Araok mont pelloc'h eo ret deoc'h deskiñ **asinañ** (*assigner*) \n",
    "talvoudoù da variennoù.<br>\n",
    "Ur varienn a zo un anv roet d'ur plas e memor an urzhiataer evit stokañ **roadennoù** (*data*). Ur varienn a zo un tamm evel ur voest e lec'h ma vez renket traoù ha lakaet un anv warni evit derc'hel soñj eus ar pezh a zo e-barzh. Implijet e vez an arouez kemm `=` evit **deraouiñ** (*initialiser*) pe kemm ur **varienn** (*variable*) gant un talvoud bennak.<br>\n",
    "Gwelet e vez div oberatadenn er c'hellig dindan. Da gentañ e vez deraouet ar varienn `x` gant an talvoud 2. Lakaet eo bet an talvoud 2 *e-barzh* ar varienn `x`. Bep gwech ma vo implijet ar varienn `x` da c'houde, e vo adpaket an talvoud a zo e-barzh. An eil oberatadenn a diskouez talvoud `x` gant ar fonksion `print`."
   ]
  },
  {
   "cell_type": "code",
   "execution_count": null,
   "metadata": {},
   "outputs": [],
   "source": [
    "x = 2\n",
    "print(x)"
   ]
  },
  {
   "cell_type": "markdown",
   "metadata": {},
   "source": [
    "Bremañ ma'z eo bet stoket an talvoud 2 er varienn `x` ez eus tu ober traoù evel :"
   ]
  },
  {
   "cell_type": "code",
   "execution_count": null,
   "metadata": {},
   "outputs": [],
   "source": [
    "print(x * x)\n",
    "print(x == x)\n",
    "print(x > 6)"
   ]
  },
  {
   "cell_type": "markdown",
   "metadata": {},
   "source": [
    "Kompren a reoc'h an oberiadennoù a-us ?\n",
    "\n",
    "Variennoù a c'hell dougen traoù all eget niverennoù. Tu 'zo lakaat testennoù eno ivez. Galvet e vez an doare data-se **chadennoù lizherenneg** pe **strings** (e saozneg). Da skouer :"
   ]
  },
  {
   "cell_type": "code",
   "execution_count": null,
   "metadata": {},
   "outputs": [],
   "source": [
    "levr = \"Harry Potter and the Philosopher's Stone\"\n",
    "print(levr)"
   ]
  },
  {
   "cell_type": "markdown",
   "metadata": {},
   "source": [
    "<figure>\n",
    "    <img src=\"https://www.harrypotterfanzone.com/wp-content/2009/06/ss-uk-adult-jacket-art.jpg\" style=\"width:300px\"/>\n",
    "    <figcaption style=\"text-align:center\">Philosopher's Stone adult edition</figcaption>\n",
    "</figure>"
   ]
  },
  {
   "cell_type": "markdown",
   "metadata": {},
   "source": [
    "Ur chadenn lizherenneg a rank bezañ bevenet gant **klochedigoù** (\"hello !\") pe **skraboù** ('hey !'). Ma tisoñjoc'h ar c'hlochedigoù pe ar skraboù e kredo Python emaoc'h o implij variennoù kentoc'h eget talvoudoù.\n",
    "\n",
    "Anv ar varienn a vo kavet atav en tu kleiz hag an talvoud da liammañ e tu-dehou an arouez kemm `=`.<br>\n",
    "Anv ur varienn a c'hell bezañ skrivet gant neusforz peseurt lizherenn, sifr pe an arouez _ , da skouer : `x`, `alpha`, `poent_buhez`, `respont1`, `niverLevrBrezhoneg`... met arabat e krogfe anv ur varienn gant ur sifr ! Deoc'h da zibab anvioù anat hag aes da lenn."
   ]
  },
  {
   "cell_type": "code",
   "execution_count": null,
   "metadata": {},
   "outputs": [],
   "source": [
    "# gwelloc'h non pas ober evel-se...\n",
    "\n",
    "bananezenn = \"Lord of the Flies\"\n",
    "print(bananezenn)"
   ]
  },
  {
   "cell_type": "markdown",
   "metadata": {},
   "source": [
    "Dieub oc'h da zibab an anv `bananezenn` evit dougen an talvoud `\"Lord of the Flies\"` met a-du oc'h n'eo ket anat tre...\n",
    "\n",
    "Talvoud ur varienn a c'hell bezañ kemmet p'hon eus c'hoant. Lakomp on eus kontet ped levr a zo en hor c'hambr :"
   ]
  },
  {
   "cell_type": "markdown",
   "metadata": {},
   "source": [
    "<figure><img class=\"css-11cwn6f\" src=\"https://static01.nyt.com/images/2016/10/30/books/review/30LOWRY-CRITICSTAKE/30LOWRY-CRITICSTAKE-articleLarge-v2.jpg?quality=75&amp;auto=webp&amp;disable=upscale\" style=\"width:300px\"></div><figcaption style=\"text-align:center\">Book Cover Illustration by Adams Carvalho Courtesy of Penguin Classics</figcaption></figure>"
   ]
  },
  {
   "cell_type": "code",
   "execution_count": null,
   "metadata": {},
   "outputs": [],
   "source": [
    "niver_a_levrioù = 100"
   ]
  },
  {
   "cell_type": "markdown",
   "metadata": {},
   "source": [
    "Ma vez ouzhpennet ul levr el levraoueg ez eus tu kemmañ ar varienn evel-se :"
   ]
  },
  {
   "cell_type": "code",
   "execution_count": null,
   "metadata": {},
   "outputs": [],
   "source": [
    "niver_a_levrioù = niver_a_levrioù + 1\n",
    "print(niver_a_levrioù)"
   ]
  },
  {
   "cell_type": "markdown",
   "metadata": {},
   "source": [
    "Kemmoù evel-se a c'hoarvez alies. Setu perak e vez kinniget gant Python un doare berroc'h d'ober ar memes oberiadenn, gant `+=`"
   ]
  },
  {
   "cell_type": "code",
   "execution_count": null,
   "metadata": {},
   "outputs": [],
   "source": [
    "niver_a_levrioù += 5\n",
    "print(niver_a_levrioù)"
   ]
  },
  {
   "cell_type": "markdown",
   "metadata": {},
   "source": [
    "Un dra pouezus a zo da c'houzout : tu zo deraouiñ pe kemm ur varienn gant talvoud ur varienn all.\n",
    "\n",
    "Araok peurgas ar c'hellig kod dindan, daoust-hag oc'h gouest da zivinout an disoc'h ?"
   ]
  },
  {
   "cell_type": "code",
   "execution_count": null,
   "metadata": {},
   "outputs": [],
   "source": [
    "levr = \"The Lord of the Rings\"\n",
    "da_lenn = levr\n",
    "print(da_lenn)"
   ]
  },
  {
   "cell_type": "markdown",
   "metadata": {},
   "source": [
    "<figure>\n",
    "    <img src=\"https://www.john-howe.com/portfolio/gallery/data/media/53/cover_lotr_green.jpg\" style=\"width:300px\"/>\n",
    "    <figcaption style=\"text-align:center\">The Lord of the Rings, by J. R. R. Tolkien, HarperCollinsPublishers</figcaption>\n",
    "</figure>"
   ]
  },
  {
   "cell_type": "markdown",
   "metadata": {},
   "source": [
    "---------"
   ]
  },
  {
   "cell_type": "markdown",
   "metadata": {},
   "source": [
    "### Quiz !"
   ]
  },
  {
   "cell_type": "markdown",
   "metadata": {},
   "source": [
    "Bremañ ma'z oc'h barrek gant ar variennoù hag an oberiadennoù asinañ eo poent skrivañ hor eil poellad.<br>\n",
    "Deoc'h da zeraouiñ un varienn anvet `anv` ha lakaat hor anv bihan e-barzh. Ma'z eo hor anv bihan berroc'h eget 5 lizherenn, implijit hor anv familh e plas. Ma'z eo hor anv familh berroc'h eget 5 lizherenn ivez, implijit hor anv bihan HAG hor anv familh asambles."
   ]
  },
  {
   "cell_type": "code",
   "execution_count": null,
   "metadata": {},
   "outputs": [],
   "source": [
    "# skrivit ho kod amañ\n",
    "\n",
    "print(anv)"
   ]
  },
  {
   "cell_type": "markdown",
   "metadata": {},
   "source": [
    "--------------"
   ]
  },
  {
   "cell_type": "markdown",
   "metadata": {},
   "source": [
    "### Tregantadoù"
   ]
  },
  {
   "cell_type": "markdown",
   "metadata": {},
   "source": [
    "Gwelomp ur skouer diwezhañ, un tamm luzietoc'h eget ar re all, a implij tout ar pezh on eus desket betek bremañ :"
   ]
  },
  {
   "cell_type": "code",
   "execution_count": null,
   "metadata": {},
   "outputs": [],
   "source": [
    "# Gant ar variennoù eo posubl kevrediñ ar roadennoù etrezo en un doare aes\n",
    "\n",
    "poblans_frans  =    67190000\n",
    "poblans_breizh =     4687381\n",
    "poblans_bedel  =  7550263500\n",
    "\n",
    "tregantad_1 = 100 * (poblans_breizh / poblans_frans)\n",
    "tregantad_2 = 100 * (poblans_frans / poblans_bedel)\n",
    "tregantad_3 = 100 * (poblans_breizh / poblans_bedel)\n",
    "\n",
    "\n",
    "print(\"Tregantad a breizhad e bro C\\'hall :\", tregantad_1, '%')\n",
    "print(\"Tregantad a dud o vevañ e bro C\\'hall er bed a-bezh :\", tregantad_2, '%')\n",
    "print(\"Tregantad a breizhad er bed a-bezh :\", tregantad_3, '%')"
   ]
  },
  {
   "cell_type": "markdown",
   "metadata": {},
   "source": [
    "----"
   ]
  },
  {
   "cell_type": "markdown",
   "metadata": {},
   "source": [
    "### Petra hon eus desket"
   ]
  },
  {
   "cell_type": "markdown",
   "metadata": {},
   "source": [
    "Evit echuiñ ar c'hentel-mañ, setu ur roll eus ar pezh on eus desket. Bezit sur bezañ komprenet pep tra araok mont war raok.\n",
    "\n",
    "- variennoù\n",
    "- talvoudoù\n",
    "- niverennoù anterin\n",
    "- chadennoù lizherenneg\n",
    "- asinañ talvoudoù da variennoù\n",
    "- difoc'h etre un talvoud hag ur varienn\n",
    "- kemmañ variennoù"
   ]
  },
  {
   "cell_type": "markdown",
   "metadata": {},
   "source": [
    "<img src=\"../gif/nice.gif\" alt=\"nice.gif\" style=\"width:300px\"/>"
   ]
  }
 ],
 "metadata": {
  "kernelspec": {
   "display_name": "Python 3",
   "language": "python",
   "name": "python3"
  },
  "language_info": {
   "codemirror_mode": {
    "name": "ipython",
    "version": 3
   },
   "file_extension": ".py",
   "mimetype": "text/x-python",
   "name": "python",
   "nbconvert_exporter": "python",
   "pygments_lexer": "ipython3",
   "version": "3.7.3"
  }
 },
 "nbformat": 4,
 "nbformat_minor": 2
}

{
 "cells": [
  {
   "cell_type": "markdown",
   "metadata": {
    "colab_type": "text",
    "id": "FkIrIrz8liiW"
   },
   "source": [
    "## Poelladenn 1 : taolenn lieskementiñ"
   ]
  },
  {
   "cell_type": "markdown",
   "metadata": {
    "colab_type": "text",
    "id": "x--Aj37oRq5a"
   },
   "source": [
    "Skrivit un poellad evit diskouez an taolennoù lieskementiñ (taolennoù etre 1 ha 10) gant ar fonksion `print`.\n",
    "C'hoant on eus un disoc'h eus ar stumm :<br>\n",
    "<pre><code>\n",
    "1×1 = 1\n",
    "1×2 = 2\n",
    "1×3 = 3\n",
    "1×4 = 4\n",
    "1×5 = 5\n",
    "1×6 = 6\n",
    "1×7 = 7\n",
    "1×8 = 8\n",
    "1×9 = 9\n",
    "2×1 = 2\n",
    "2×2 = 4\n",
    "2×3 = 6\n",
    "2×4 = 8\n",
    "2×5 = 10\n",
    "2×6 = 12\n",
    "...</code></pre>"
   ]
  },
  {
   "cell_type": "code",
   "execution_count": 0,
   "metadata": {
    "colab": {},
    "colab_type": "code",
    "id": "_WriuW81ZD0I"
   },
   "outputs": [],
   "source": [
    "# Un daolenn lieskementiñ\n",
    "\n",
    "# DA SKRIVAÑ"
   ]
  },
  {
   "cell_type": "markdown",
   "metadata": {
    "colab_type": "text",
    "id": "zsuUGjGylvAU"
   },
   "source": [
    "## Poelladenn 2 : Kouplajoù"
   ]
  },
  {
   "cell_type": "markdown",
   "metadata": {
    "colab_type": "text",
    "id": "i2ZpFT4LmDyU"
   },
   "source": [
    "Kodit ur poellad a skriv war ar skramm tout ar c'houblajoù possubl etre an dud kavet el listennad `anviou`"
   ]
  },
  {
   "cell_type": "code",
   "execution_count": 0,
   "metadata": {
    "colab": {},
    "colab_type": "code",
    "id": "rklSBBkcZD0R"
   },
   "outputs": [],
   "source": [
    "# Tout ar c'houblajoù posubl (doare simpl)\n",
    "\n",
    "anviou = [\"Lomig\", \"Jobig\", \"Herve\", \"Anna\", \"Enora\", \"Katell\"]\n",
    "\n",
    "# DA SKRIVAÑ"
   ]
  },
  {
   "cell_type": "markdown",
   "metadata": {
    "colab_type": "text",
    "id": "Nsfz2pVCnkvc"
   },
   "source": [
    "Memes tra, met klaskit chomm hep diskouezh doublenn ebet (adksrivañ ur c'houblad eilpennet a kont evit un doublenn)."
   ]
  },
  {
   "cell_type": "code",
   "execution_count": 0,
   "metadata": {
    "colab": {},
    "colab_type": "code",
    "id": "mHOeekHPAIp6"
   },
   "outputs": [],
   "source": [
    "# Tout ar c'houblajoù posubl (hep doublenn ebet)\n",
    "\n",
    "anviou = [\"Lomig\", \"Jobig\", \"Herve\", \"Anna\", \"Enora\", \"Katell\"]\n",
    "\n",
    "# DA SKRIVAÑ"
   ]
  },
  {
   "cell_type": "markdown",
   "metadata": {
    "colab_type": "text",
    "id": "8ywkSJr1oZTL"
   },
   "source": [
    "## Poelladenn 3 : Ur pyramiden"
   ]
  },
  {
   "cell_type": "markdown",
   "metadata": {
    "colab_type": "text",
    "id": "N3soSV_copJx"
   },
   "source": [
    "Kodit ur poellad a diskouez ur pyramiden graet gant stered '`*`' (pe un arouez all m'ho peus c'hoant...).<br>\n",
    "Ment ar pyramidenn a vo termenet er varienn `ment`. Savet e vo ar pyramidenn hervez ar varienn-se.<br>\n",
    "Sa skouer, evit ur ment 7 e vez gortozet un disoc'h eus ar stumm :\n",
    "<pre>\n",
    "      *\n",
    "     ***\n",
    "    *****\n",
    "   *******\n",
    "  *********\n",
    " ***********\n",
    "*************\n",
    "</pre>"
   ]
  },
  {
   "cell_type": "code",
   "execution_count": 0,
   "metadata": {
    "colab": {},
    "colab_type": "code",
    "id": "wN-feUMrpwxk"
   },
   "outputs": [],
   "source": [
    "ment = 32\n",
    "\n",
    "# DA SKRIVAÑ"
   ]
  }
 ],
 "metadata": {
  "colab": {
   "collapsed_sections": [],
   "name": "Poelladennoù_Python_01.ipynb",
   "provenance": []
  },
  "kernelspec": {
   "display_name": "Python 3",
   "language": "python",
   "name": "python3"
  },
  "language_info": {
   "codemirror_mode": {
    "name": "ipython",
    "version": 3
   },
   "file_extension": ".py",
   "mimetype": "text/x-python",
   "name": "python",
   "nbconvert_exporter": "python",
   "pygments_lexer": "ipython3",
   "version": "3.7.3"
  }
 },
 "nbformat": 4,
 "nbformat_minor": 1
}

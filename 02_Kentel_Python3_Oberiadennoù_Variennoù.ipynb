{
 "cells": [
  {
   "cell_type": "markdown",
   "metadata": {
    "colab_type": "text",
    "id": "6Nlq4rgvakh_"
   },
   "source": [
    "# Kentel Python3 - Oberiadennoù ha variennoù"
   ]
  },
  {
   "cell_type": "markdown",
   "metadata": {
    "colab_type": "text",
    "id": "r_ajTm_EeTxl"
   },
   "source": [
    "Evit mont war raok, pennad ha pennad, gant un Notebook ha peurgas ar pennadoù kod Python (ar re a grog gant an arouez **`[ ]`**) eo ret deoc'h pouezañ war <kbd>MAJ+ENTREE</kbd> bep gwech.<br>\n",
    "Tu 'zo deoc'h ivez cheñch an titouroù ho peus c'hoant e-barzh ar pennadoù kod evit kaout disoc'hoù disheñvel. Grit taolioù arnod evit kompren penaos ez a en dro an traoù !"
   ]
  },
  {
   "cell_type": "markdown",
   "metadata": {
    "colab_type": "text",
    "id": "5tDABXc-qEYU"
   },
   "source": [
    "Lennit pep tra a-raok mont war-raok !<br>\n",
    "Ken pouezus eo lenn an displegadennoù, ar c'hod Python hag an evezhiadennoù staget ouzh ar c'hod.<br>\n",
    "Klaskit kompren tout a pezh a zo skrivet araok peurgas ar c'helligoù kod."
   ]
  },
  {
   "cell_type": "markdown",
   "metadata": {
    "colab_type": "text",
    "id": "i2mTL4uDpE52"
   },
   "source": [
    "## Oberiadennoù war an doareoù data elfennel"
   ]
  },
  {
   "cell_type": "markdown",
   "metadata": {
    "colab_type": "text",
    "id": "zbUq25iTxb-f"
   },
   "source": [
    "An oberiadennoù matematikel boutin a vez kavet :\n",
    "*   Sammadenn (`A + B`)\n",
    "*   Lemadenn  (`A - B`)\n",
    "*   Liesadenn (`A * B`)\n",
    "*   Ranadenn  (`A / B`)\n",
    "*   Ranadenn anterin (`A // B`)\n",
    "*   Modulo    (`A % B`)\n",
    "*   Galloud   (`A ** B`)\n"
   ]
  },
  {
   "cell_type": "markdown",
   "metadata": {
    "colab_type": "text",
    "id": "ZxnmCKmb0FRV"
   },
   "source": [
    "Tu zo ober oberiadennoù matimatikel boutin war niveroù anterin ha niveroù degel digudenn"
   ]
  },
  {
   "cell_type": "code",
   "execution_count": null,
   "metadata": {
    "colab": {},
    "colab_type": "code",
    "id": "BhZi06nOZDyY"
   },
   "outputs": [],
   "source": [
    "print(\"2 + 2 =\", 2+2)\n",
    "print(\"6.47 * -45.98 =\", 6.47 * -45.98)\n",
    "print(\"5 / 2 =\", 5/2)\n",
    "print(\"5 // 2 =\", 5//2)"
   ]
  },
  {
   "cell_type": "code",
   "execution_count": null,
   "metadata": {},
   "outputs": [],
   "source": [
    "# Un urzhiataer a c'hell ober jedadennoù bras spontus digudenn\n",
    "print(2 ** 795)"
   ]
  },
  {
   "cell_type": "markdown",
   "metadata": {
    "colab_type": "text",
    "id": "97xyz7rB4O1t"
   },
   "source": [
    "An oberiadenn **modulo** a jed restaj ur rannadur anterin. Da skouer ma vez rannet 10 dre 3 e vo kavet 3 hag e chomo 1."
   ]
  },
  {
   "cell_type": "code",
   "execution_count": null,
   "metadata": {
    "colab": {},
    "colab_type": "code",
    "id": "1a3pQXuW68IT"
   },
   "outputs": [],
   "source": [
    "print(\"Rannadur anterin 10 gant 3 :\", 10 // 3)\n",
    "print(\"Restaj ar rannadur anterin: \", 10 % 3)\n",
    "print(3 * (10//3) + (10%3))"
   ]
  },
  {
   "cell_type": "markdown",
   "metadata": {
    "colab_type": "text",
    "id": "cIvs_uMyZDzF"
   },
   "source": [
    "Tu 'zo implij un nebeut oberiadennoù matematikel gant chadennoù lizherennek ivez :"
   ]
  },
  {
   "cell_type": "code",
   "execution_count": null,
   "metadata": {
    "colab": {},
    "colab_type": "code",
    "id": "_jPDxalFZDzM"
   },
   "outputs": [],
   "source": [
    "(\"Hello, \" + \"world !\")*10"
   ]
  },
  {
   "cell_type": "code",
   "execution_count": null,
   "metadata": {
    "colab": {},
    "colab_type": "code",
    "id": "ccIPK_TcZDzW"
   },
   "outputs": [],
   "source": [
    "\"Yo \" * 100 + '!' * 5"
   ]
  },
  {
   "cell_type": "markdown",
   "metadata": {
    "colab_type": "text",
    "id": "1leDIYxeZDzh"
   },
   "source": [
    "Met n'ez eus ket tu meskañ chadennoù lizherennek ha niveroù. Evit hen ober eo ret da gentañ **amdreiñ** (*convertir*) an niverenn en ur chadenn lizherennek dre ar fonksion `str()`"
   ]
  },
  {
   "cell_type": "code",
   "execution_count": null,
   "metadata": {
    "colab": {},
    "colab_type": "code",
    "id": "TEAUSuDdZDzl"
   },
   "outputs": [],
   "source": [
    "# Se 'zo ur fazi !\n",
    "\"An disoc'h a zo : \" + 5"
   ]
  },
  {
   "cell_type": "code",
   "execution_count": null,
   "metadata": {
    "colab": {},
    "colab_type": "code",
    "id": "hdvZxvtHZDzx"
   },
   "outputs": [],
   "source": [
    "# An doare reizh d'ober\n",
    "\"An disoc'h a zo : \" + str(5)"
   ]
  },
  {
   "cell_type": "code",
   "execution_count": null,
   "metadata": {
    "colab": {},
    "colab_type": "code",
    "id": "hgygZh3HdPXE"
   },
   "outputs": [],
   "source": [
    "# Keñverit an tri doare data da-heul\n",
    "\n",
    "print(type(12))\n",
    "print(type(12.0))\n",
    "print(type(\"12\"))"
   ]
  },
  {
   "cell_type": "markdown",
   "metadata": {},
   "source": [
    "## Poelladennoù : Difaziit ar c'helligoù kod"
   ]
  },
  {
   "cell_type": "code",
   "execution_count": null,
   "metadata": {},
   "outputs": [],
   "source": [
    "# Peseurt arouez e vez implijet evit reiñ meur a arguzenn d'ur fonksion ?\n",
    "print(\"ur\"; \"bane\"; \"dour\"; \"marplij\")"
   ]
  },
  {
   "cell_type": "code",
   "execution_count": null,
   "metadata": {},
   "outputs": [],
   "source": [
    "# Ezhomm o po amdreiñ an niveroù anterin\n",
    "print(10 + \" den a zo aet da brenañ \" + 8 + \" marc'h\")"
   ]
  },
  {
   "cell_type": "code",
   "execution_count": null,
   "metadata": {},
   "outputs": [],
   "source": [
    "# Lakiit krommelloù el lec'h mat evit kaout an disoch '2.0'\n",
    "1+3/2"
   ]
  },
  {
   "cell_type": "markdown",
   "metadata": {
    "colab_type": "text",
    "id": "BXzLIndAZDz5"
   },
   "source": [
    "## Ar variennoù\n",
    "Tu 'zo stokañ **roadennoù** (data) e memor bev an urzhiataer gant variennoù.\n",
    "Ur **varienn** a zo un anv (dibabet ganeoc'h) liammet gant lodenn eus **memor bev** an urzhiataer ha d'an **talvoud** bet lakaet enno (niverel, lizherennek pe doareoù all).\n",
    "Anv ur varienn a c'hell bezañ skrivet gant neusforz peseurt lizherenn, sifr pe an arouez _ , da skouer : `x`, `alpha`, `poent_buhez`, `respont1`, `niverLevrBrezhoneg`... met arabat e krogfe anv ur varienn gant ur sifr ! Deoc'h da zibab anvioù anat hag aes da lenn.<br>\n",
    "Implijet e vez an arouez `=` evit **deraouiñ** pe **kemmañ** ur varienn gant un talvoud bennak. Anv ar varienn a vo kavet atav en tu kleiz hag an talvoud da liammañ e tu-dehou an arouez kemm."
   ]
  },
  {
   "cell_type": "code",
   "execution_count": null,
   "metadata": {
    "colab": {},
    "colab_type": "code",
    "id": "PnPrtS1dUuTw"
   },
   "outputs": [],
   "source": [
    "oadKatell = 16\n",
    "\n",
    "# Setu erruet deiz-ha-bloaz Katell, ur bloavezh ouzhpenn a zo ganti\n",
    "oadKatell + 1\n",
    "print(\"Oad Katell :\", oadKatell)"
   ]
  },
  {
   "cell_type": "markdown",
   "metadata": {},
   "source": [
    "Jedet eo bet oad nevez Katell gant jubenner Python met n'eo ket bet stoket an disoc'h. `oadKatell` n'eo ket bet kemmet gant ar jedadenn.<br>\n",
    "Evit ma vefe miret an oad nevez eo ret kemmañ ar varienn a orin, pe grouiñ ur varienn nevez"
   ]
  },
  {
   "cell_type": "code",
   "execution_count": null,
   "metadata": {},
   "outputs": [],
   "source": [
    "oadNevez = oadKatell + 1\n",
    "print(\"Oad nevez :\", oadNevez)\n",
    "print(\"Oad Katell :\", oadKatell)\n",
    "# An disoc'h a zo bet lakaet er varienn oadNevez met n'eo\n",
    "# ket bet cheñchet ar varienn a orin c'hoazh\n",
    "\n",
    "oadKatell = oadKatell + 1\n",
    "print(\"Oad Katell :\", oadKatell)"
   ]
  },
  {
   "cell_type": "markdown",
   "metadata": {
    "colab_type": "text",
    "id": "ke6JwW88YmNq"
   },
   "source": [
    "Kavet e vez ivez arouezioù ispisial evit ober ur jedadenn gant ur varienn ha kemmañ anezhi en un taol.<br>\n",
    "<table>\n",
    "  <tr>\n",
    "    <th>Arouez</th>\n",
    "    <th>Disoc'h</th>\n",
    "  </tr>\n",
    "  <tr>\n",
    "    <td>+=</td>\n",
    "    <td>Sammañ ha kemm ar varienn</td>\n",
    "  </tr>\n",
    "  <tr>\n",
    "    <td>-=</td>\n",
    "    <td>Lemel ha kemm</td>\n",
    "  </tr>\n",
    "  <tr>\n",
    "    <td>*=</td>\n",
    "    <td>Lieskementiñ ha kemm</td>\n",
    "  </tr>\n",
    "  <tr>\n",
    "    <td>/=</td>\n",
    "    <td>Rannañ ha kemm</td>\n",
    "  </tr>\n",
    "  <tr>\n",
    "    <td>//=</td>\n",
    "    <td>Rannañ anterin ha kemm</td>\n",
    "  </tr>\n",
    "  <tr>\n",
    "    <td>%=</td>\n",
    "    <td>Modulo ha kemm</td>\n",
    "  </tr>\n",
    "</table>"
   ]
  },
  {
   "cell_type": "code",
   "execution_count": null,
   "metadata": {
    "colab": {},
    "colab_type": "code",
    "id": "DlZ7Q0OpZEwN"
   },
   "outputs": [],
   "source": [
    "a = 12\n",
    "print(a)\n",
    "\n",
    "a += 1\n",
    "print(a)\n",
    "\n",
    "# A zo ar memes tra eget :\n",
    "a = a+1\n",
    "print(a)"
   ]
  },
  {
   "cell_type": "code",
   "execution_count": null,
   "metadata": {
    "colab": {},
    "colab_type": "code",
    "id": "Dr-snW4Abp-M"
   },
   "outputs": [],
   "source": [
    "# Mont a ra en dro gant ar chadennoù lizherennek ivez\n",
    "\n",
    "frazenn_filozofek = \"Gant ar c'hoant dimeziñ e reer tro ar bed,\\n\"\n",
    "frazenn_filozofek += \"Gant ar c'hoant kac'hat ne reer ket...\"\n",
    "\n",
    "print(frazenn_filozofek)"
   ]
  },
  {
   "cell_type": "code",
   "execution_count": null,
   "metadata": {
    "colab": {},
    "colab_type": "code",
    "id": "50GXjynlNdot"
   },
   "outputs": [],
   "source": [
    "# Gant ar variennoù eo posubl kevrediñ ar roadennoù etrezo en un doare aes\n",
    "\n",
    "poblans_frans = 67_190_000\n",
    "poblans_breizh = 4_687_381\n",
    "poblans_bedel = 7_550_263_500\n",
    "tregantad_1 = 100 * (poblans_breizh / poblans_frans)\n",
    "tregantad_2 = 100 * (poblans_frans / poblans_bedel)\n",
    "tregantad_3 = 100 * (poblans_breizh / poblans_bedel)\n",
    "\n",
    "print(\"Tregantad a breizhad e bro C\\'hall :\", tregantad_1, '%')\n",
    "print(\"Tregantad a dud o vevañ e bro C\\'hall er bed a-bezh :\", tregantad_2, '%')\n",
    "print(\"Tregantad a breizhad er bed a-bezh :\", tregantad_3, '%')"
   ]
  },
  {
   "cell_type": "markdown",
   "metadata": {},
   "source": [
    "### Poelladennoù : klokit ar c'hod"
   ]
  },
  {
   "cell_type": "code",
   "execution_count": null,
   "metadata": {},
   "outputs": [],
   "source": [
    "# Deraouit ar variennoù gant o titouroù gwir !\n",
    "\n",
    "import datetime\n",
    "\n",
    "va_anv_bihan = # DA LEUNIAÑ\n",
    "va_anv_familh = # DA LEUNIAÑ\n",
    "bloavez_ganedigezh = # LEUNIIT GANT UN NIVER ANTERIN EUS AR STUMM '20xx'\n",
    "miz_ganedigezh = # LEUNIIT GANT UN NIVER ANTERIN\n",
    "deiz_ganedigezh = # LEUNIIT GANT UN NIVER ANTERIN\n",
    "\n",
    "ganedigezh = datetime.datetime(bloavez_ganedigezh, miz_ganedigezh, deiz_ganedigezh)\n",
    "hiriv = datetime.datetime.today()\n",
    "d = hiriv - ganedigezh\n",
    "\n",
    "print(\"Salud\", va_anv_bihan.title(), va_anv_familh.title())\n",
    "print(d.days//365, \"bloaz o peus\")\n",
    "print(\"Ganet oc'h\", d.days, \"devezh 'zo\")\n",
    "\n",
    "otont = datetime.datetime(hiriv.year, miz_ganedigezh, deiz_ganedigezh)\n",
    "if otont<hiriv:\n",
    "    otont = datetime.datetime(hiriv.year+1, miz_ganedigezh, deiz_ganedigezh)\n",
    "print(\"O deiz-ha-bloaz a vo a-benn\", (otont-hiriv).days, \"devezh !\")\n"
   ]
  },
  {
   "cell_type": "code",
   "execution_count": null,
   "metadata": {
    "scrolled": true
   },
   "outputs": [],
   "source": [
    "V = # DIBABIT UR MENT GANT UN NIVERENN ANTERIN ETRE 1 HA 50\n",
    "H = # DIBABIT UR MENT GANT UN NIVERENN ANTERIN ETRE 1 HA 50\n",
    "\n",
    "for v in range(V):\n",
    "    for h in range(H):\n",
    "        if h%(H-1) == 0 or v%(V-1) == 0:\n",
    "            print('#', end='')\n",
    "        elif h<(H/2):\n",
    "            if v<(V/2):\n",
    "                print('/', end='')\n",
    "            else:\n",
    "                print('\\\\', end='')\n",
    "        else:\n",
    "            if v<(V/2):\n",
    "                print('\\\\', end='')\n",
    "            else:\n",
    "                print('/', end='')\n",
    "    print()"
   ]
  }
 ],
 "metadata": {
  "colab": {
   "collapsed_sections": [],
   "name": "Kentel_Python_01.ipynb",
   "provenance": []
  },
  "kernelspec": {
   "display_name": "Python 3",
   "language": "python",
   "name": "python3"
  },
  "language_info": {
   "codemirror_mode": {
    "name": "ipython",
    "version": 3
   },
   "file_extension": ".py",
   "mimetype": "text/x-python",
   "name": "python",
   "nbconvert_exporter": "python",
   "pygments_lexer": "ipython3",
   "version": "3.7.3"
  }
 },
 "nbformat": 4,
 "nbformat_minor": 1
}

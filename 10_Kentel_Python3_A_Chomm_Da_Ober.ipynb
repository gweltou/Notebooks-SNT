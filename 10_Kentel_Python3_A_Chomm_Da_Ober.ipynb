{
 "cells": [
  {
   "cell_type": "markdown",
   "metadata": {
    "colab_type": "text",
    "id": "fcC5srIe8fty"
   },
   "source": [
    "## Petra a chomm da welet ?"
   ]
  },
  {
   "cell_type": "markdown",
   "metadata": {
    "colab_type": "text",
    "id": "zobDgRlt8k_B"
   },
   "source": [
    "Fonksionoù rekursivel"
   ]
  },
  {
   "cell_type": "markdown",
   "metadata": {
    "colab_type": "text",
    "id": "VFSPTTey8n4_"
   },
   "source": [
    "Fonksionoù \"Closure\""
   ]
  },
  {
   "cell_type": "markdown",
   "metadata": {
    "colab_type": "text",
    "id": "wQeQINtN_7L-"
   },
   "source": [
    "Enklask dichotomek (\"binary search\")"
   ]
  },
  {
   "cell_type": "markdown",
   "metadata": {
    "colab_type": "text",
    "id": "0lYosz-j9H1g"
   },
   "source": [
    "Mont donnoc'h gant ar modulo (`%`)"
   ]
  },
  {
   "cell_type": "markdown",
   "metadata": {
    "colab_type": "text",
    "id": "pjKRloTFa6zs"
   },
   "source": [
    "Metodoù \"String\" ouzhpenn"
   ]
  }
 ],
 "metadata": {
  "kernelspec": {
   "display_name": "Python 3",
   "language": "python",
   "name": "python3"
  },
  "language_info": {
   "codemirror_mode": {
    "name": "ipython",
    "version": 3
   },
   "file_extension": ".py",
   "mimetype": "text/x-python",
   "name": "python",
   "nbconvert_exporter": "python",
   "pygments_lexer": "ipython3",
   "version": "3.7.3"
  }
 },
 "nbformat": 4,
 "nbformat_minor": 2
}

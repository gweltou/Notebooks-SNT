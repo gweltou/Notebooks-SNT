{
 "cells": [
  {
   "cell_type": "markdown",
   "metadata": {
    "colab_type": "text",
    "id": "sf3BNEa3aziA"
   },
   "source": [
    "# Kentel Python3 - Digeriñ fichennaouegoù"
   ]
  },
  {
   "cell_type": "markdown",
   "metadata": {
    "colab_type": "text",
    "id": "6QzYzA5rugGl"
   },
   "source": [
    "Pouezus eo gallout digeriñ fichennaouegoù dre Python evit meur a abegoù.<br>\n",
    "Ma'z eo ret deoc'h labourat gant ur c'hementad bras a data (evit studiañ poblañs bro C'hall da skouer) e vefe kolled un amzer spontus ma'z eo dav skrivañ pep roadenn dre dorn pep gwech ma vez loc'het ar meiziant, e-giz er bloavezioù hanter-kant !<br>\n",
    "Kalz primoc'h hag efedusoc'h eo stokañ an data e-barzh ur fichennaoueg, war pladenn-kallet an urzhiataer, ha digeriñ anezhi eus diabarzh ar program pep gwech m'on eus ezhomm labourat gant an data.<br>\n",
    "Un abeg all a zo evit gallout saveteiñ un disoc'h bet jedet gant ar program pe c'hoazh saveteiñ stad ur program evit gallout kendec'hel al labour divezatoc'h."
   ]
  },
  {
   "cell_type": "markdown",
   "metadata": {
    "colab_type": "text",
    "id": "w-PQPx6-0D8z"
   },
   "source": [
    "Diaes eo lakaat an dra-se e pleustr gant un notebook Jupyter. Ma'z eo bet loc'het an notebook en un doare lec'hel e c'hellor tizhout pep fichennaoueg eus o urzhiataer met ma implijoc'h an notebook war ur servijer a-bell ne vo tu tizhout nemet ar pezh a zo war ar servijer.<br>\n",
    "Stumm al lec'h moned a cheñch ivez hervez ma'z eo an urzhiataer dindan Windows, Linux pe MacOs."
   ]
  },
  {
   "cell_type": "code",
   "execution_count": 0,
   "metadata": {
    "colab": {},
    "colab_type": "code",
    "id": "3sMUdYLNj0DW"
   },
   "outputs": [],
   "source": [
    "# Evit gwelet kavlec'h ar jubenner e vez implijet ar modul 'os'\n",
    "import os\n",
    "\n",
    "# 'getcwd' a dalvez \"get current working directory\"\n",
    "print(os.getcwd())\n"
   ]
  },
  {
   "cell_type": "code",
   "execution_count": 0,
   "metadata": {
    "colab": {},
    "colab_type": "code",
    "id": "QgBicRSoszmT"
   },
   "outputs": [],
   "source": [
    "# Evit kaout listennad ar fichennaouegoù kavet e kavlec'h ar jubenner :\n",
    "os.listdir()"
   ]
  },
  {
   "cell_type": "markdown",
   "metadata": {
    "colab_type": "text",
    "id": "a-iBJyUf6uWo"
   },
   "source": [
    "Diskouezet e vo ur skouer simpl ha dibleustr da skrivañ ha da lenn ur fichennaoueg gant Python."
   ]
  },
  {
   "cell_type": "code",
   "execution_count": 0,
   "metadata": {
    "colab": {},
    "colab_type": "code",
    "id": "8d9q4GTi63XG"
   },
   "outputs": [],
   "source": [
    "import random\n",
    "\n",
    "# Krogomp da zigeriñ ur fichennaoueg evit skrivañ enni\n",
    "# (krouet e vo ar fichennaoueg ma n'eo ket bet dija graet)\n",
    "# An eil arguzenn 'w' a dalvez \"write\"\n",
    "f = open(\"niverennou.txt\", \"w\")\n",
    "\n",
    "for i in range(1000):\n",
    "    # Tennet e vez un niverenn dargouezhek nevez\n",
    "    niverenn = random.randint(0, 9999)\n",
    "    # Treuzkaset e vez anezhi en ur chadenn lizherennek ha\n",
    "    # skrivet e vez anezhi e-barzh ar fichennaoueg\n",
    "    f.write(str(niverenn))\n",
    "    # Lammet e vez ul linenn evit ma ne vefent ket an holl niverennoù\n",
    "    # stok-ha-stok\n",
    "    f.write('\\r\\n')\n",
    "\n",
    "# Sarret e vez ar fichennaoueg evit ma vefe skrivet war\n",
    "# pladenn-kallet an urzhiataer\n",
    "f.close()"
   ]
  },
  {
   "cell_type": "code",
   "execution_count": 0,
   "metadata": {
    "colab": {},
    "colab_type": "code",
    "id": "U3qhLj2u9J1Q"
   },
   "outputs": [],
   "source": [
    "# Gwiriekomp ma'z eo bet skrivet er c'havlec'h\n",
    "os.listdir()"
   ]
  },
  {
   "cell_type": "code",
   "execution_count": 0,
   "metadata": {
    "colab": {},
    "colab_type": "code",
    "id": "cMZHERo99bsy"
   },
   "outputs": [],
   "source": [
    "# Ha bremañ klaskomp digeriñ ar fichennaoueg endro\n",
    "# Ar wech mañ e vo lakaet 'r' (evit \"read\") en eil arguzenn\n",
    "f = open(\"niverennou.txt\", \"r\")\n",
    "\n",
    "# gant ar metod 'readlines' e vez adkaset ul listennad gant pep linenn\n",
    "# eus ar fichennaoueg\n",
    "listennad = f.readlines()\n",
    "\n",
    "# Sarret e vez ar fichennaoueg\n",
    "f.close()\n",
    "\n",
    "# Treuzkaset e vez endro ar chadennoù lizherenek e niverennoù anterin\n",
    "# Implijet e vez ar fonksion map(A, B), a adkas ul listenn nevez gant pep elfenn\n",
    "# eus ar listenn B bet kaset dre ar fonksion A\n",
    "niverennou = list(map(int, listennad))\n",
    "# Jedet ha diskouezet e vez ar geidenn\n",
    "# Gant ar fonksion 'sum' e vez sammet asamblez an holl elfennoù eus al listenn\n",
    "print(sum(niverennou)/len(niverennou))"
   ]
  },
  {
   "cell_type": "markdown",
   "metadata": {},
   "source": [
    "### Poelladennoù : DA OBER"
   ]
  }
 ],
 "metadata": {
  "kernelspec": {
   "display_name": "Python 3",
   "language": "python",
   "name": "python3"
  },
  "language_info": {
   "codemirror_mode": {
    "name": "ipython",
    "version": 3
   },
   "file_extension": ".py",
   "mimetype": "text/x-python",
   "name": "python",
   "nbconvert_exporter": "python",
   "pygments_lexer": "ipython3",
   "version": "3.7.3"
  }
 },
 "nbformat": 4,
 "nbformat_minor": 2
}

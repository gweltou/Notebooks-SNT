{
 "cells": [
  {
   "cell_type": "markdown",
   "metadata": {
    "colab_type": "text",
    "id": "6Nlq4rgvakh_"
   },
   "source": [
    "# Kentel Python3 - Ar frammoù merañ"
   ]
  },
  {
   "cell_type": "markdown",
   "metadata": {
    "colab_type": "text",
    "id": "X2ncJqKzD1O2"
   },
   "source": [
    "## Ar rodell `for`"
   ]
  },
  {
   "cell_type": "markdown",
   "metadata": {
    "colab_type": "text",
    "id": "Xz0no_hNEFjv"
   },
   "source": [
    "Ar rodell `for` (e galleg e vefe laret \"*pour chaque*\") a servij da peurgas meur a wech ur **blok kod**.<br>\n",
    "Ur **blok kod** a zo meur linennoù kod da-heul, bet dilec'hiet war an tu kleiz gant un nebeut esaouennoù (4 esaouenn dre boaz). An dilec'hiadenn-se a vez galvet un **endantadur** (*indentation* e galleg hag e saozneg).\n",
    "Diazezet e vez ar rodell war un heuliad roadennoù (un listenn pe ur chadenn lizherennek da skouer). E pep **iteradur** (un dro eus ar rodell) e vez lakaet an talvoud da-heul en heuliad e barzh ur varienn a vo implijet (pe get) e blok kod ar rodell. An niver a **iteradur** eus a rodell a vo neuze kevatal da ment an heuliad roadennoù.\n",
    "Skrivet e vez :\n",
    "<pre>\n",
    "for varienn in heuliad:\n",
    "    blok kod...\n",
    "</pre>"
   ]
  },
  {
   "cell_type": "code",
   "execution_count": null,
   "metadata": {
    "colab": {},
    "colab_type": "code",
    "id": "WaRiIU_jLTbT"
   },
   "outputs": [],
   "source": [
    "heuliad = [\"unan\", \"daou\", \"tri\", \"daouzek\"]\n",
    "for i in heuliad:\n",
    "    # E pep tro a rodell e vo lakaed un talvoud nevez eus an heuliad\n",
    "    # e barzh ar varienn i\n",
    "    print(\"talvoud 'i' :\", i)"
   ]
  },
  {
   "cell_type": "code",
   "execution_count": null,
   "metadata": {
    "colab": {},
    "colab_type": "code",
    "id": "iwdFwhSuNPIU"
   },
   "outputs": [],
   "source": [
    "# Mont a ra en dro gant chadennoù lizherennek ivez\n",
    "for lizherenn in \"abcdefgh\":\n",
    "    print(lizherenn)"
   ]
  },
  {
   "cell_type": "code",
   "execution_count": null,
   "metadata": {
    "colab": {},
    "colab_type": "code",
    "id": "c-scZsoOOTpJ"
   },
   "outputs": [],
   "source": [
    "# Ha setu ur skouer evit sammañ ur listennad rouadennoù asambles\n",
    "temperadur = [12.5, 16, 10.6, 14.2, 8.8, 23, -1.1, 4.9, 9, 15.7]\n",
    "hollad = 0\n",
    "for t in temperadur:\n",
    "    hollad += t\n",
    "\n",
    "print(\"hollad :\", hollad)\n",
    "print(\"keidenn :\", hollad / len(temperadur))"
   ]
  },
  {
   "cell_type": "markdown",
   "metadata": {
    "colab_type": "text",
    "id": "anEZVqwnO_vB"
   },
   "source": [
    "E gwirionez e vez kavet ivez ar fonksion `sum()` evit jediñ un hollad."
   ]
  },
  {
   "cell_type": "code",
   "execution_count": null,
   "metadata": {
    "colab": {},
    "colab_type": "code",
    "id": "luNd043sOvCR"
   },
   "outputs": [],
   "source": [
    "print(\"hollad :\", sum(temperadur))\n",
    "print(\"keidenn :\", sum(temperadur) / len(temperadur))"
   ]
  },
  {
   "cell_type": "markdown",
   "metadata": {
    "colab_type": "text",
    "id": "xlLuAKsSP2KZ"
   },
   "source": [
    "**Evit pleustriñ :**<br>\n",
    "Daoust hag e vefec'h gouest da jediñ keidenn ment un listennad gerioù ?<br>\n",
    "Soñjit implij ar fonksion `len` evit kaout ment ur ger."
   ]
  },
  {
   "cell_type": "code",
   "execution_count": null,
   "metadata": {
    "colab": {},
    "colab_type": "code",
    "id": "5DtIMLpDR7x9"
   },
   "outputs": [],
   "source": [
    "gerioù = [\"Erruet\", \"eo\", \"Lomig\", \"e\", \"kichenn\", \"iliz\", \"Sant-Kadou\"]\n",
    "\n",
    "# Deoc'h da skrivañ ar c'hod evit jediñ ar geidenn\n",
    "# ha da ziskouez an disoc'h gant print\n",
    "\n"
   ]
  },
  {
   "cell_type": "markdown",
   "metadata": {
    "colab_type": "text",
    "id": "Mzye70zGTCxA"
   },
   "source": [
    "Alies ne vez ket ezhomm iteriñ war roadennoù disheñvel un heuliad met nemet gallout ober un niver bennak a tro gant ar rodell. D'ar mare mañ ez eus tu implij ar fonksion `range()` evit krouiñ prim un heuliad a niverennoù urzhiet.<br>\n",
    "Ma vez roet un arguzenn (un niver anterin `N`) nemetken da `range()` e vo adkaset un heuliad eus 0 betek `N-1`.<br>\n",
    "Ma vez roet div arguzenn (A ha B) e vo adkaset un heuliad niverennoù eus A betek B-1."
   ]
  },
  {
   "cell_type": "code",
   "execution_count": null,
   "metadata": {
    "colab": {},
    "colab_type": "code",
    "id": "U6KXRyMJUmUQ"
   },
   "outputs": [],
   "source": [
    "# Ret eo implij ar fonksion \"list\" evit amdreiñ an heuliad en ul listenn\n",
    "# evit bezañ gouest da ziskouez anezhi gant \"print\"\n",
    "heuliad = range(5)\n",
    "print(list(heuliad))\n",
    "\n",
    "heuliad2 = range(5, 10)\n",
    "print(list(heuliad2))\n",
    "\n",
    "# Pa vez implijet en ur rodell \"for\" n'ez eus ket ezhomm\n",
    "# amdreiñ an heuliad gant \"list\"\n",
    "for i in range(10):\n",
    "    print(\"Paouez adlavar ar pez a laran !\")"
   ]
  },
  {
   "cell_type": "markdown",
   "metadata": {
    "colab_type": "text",
    "id": "yw_9ApM_QpSD"
   },
   "source": [
    "## Ar framm diviz `if-elif-else`"
   ]
  },
  {
   "cell_type": "markdown",
   "metadata": {
    "colab_type": "text",
    "id": "pWV66pzFiiP9"
   },
   "source": [
    "Setu ur framm pouezus tre hag a vez kavet e barzh pep yezh programiñ. Gantañ e c'hell cheñch red ur program hervez un **amplegad** (pe kondision) bennak. Heptañ ur program ne vefe nemet un heuliad a stadamantoù finit ha statik.<br>\n",
    "Gant ar framm diviz, ma vez gwiriekaet un amplegad e vo peurgaset un blok kod bennak ha mod all (ma vez faos disoc'h an amplegad) e vo peurgaset ur blok kod all.<br>\n",
    "Setu penaos e vez skrivet :\n",
    "<pre>\n",
    "if amplegad:\n",
    "    blok kod peurgaset ma vez gwir an amplegad\n",
    "else:\n",
    "    blok kod peurgaset ma vez faos an amplegad\n",
    "</pre>"
   ]
  },
  {
   "cell_type": "markdown",
   "metadata": {
    "colab_type": "text",
    "id": "wtRdjd3QpHKt"
   },
   "source": [
    "Ar stadamant `else` a zo diret. Tu vefe ober gant ar stadamant `if` nemetken.<br>\n",
    "M'o peus c'hoant gwiriekaat meur a amplegadoù ez eus tu ouzhpennañ stadamantoù `elif` (berradenn \"else if\").<br>\n",
    "<pre>\n",
    "if amplegad1:\n",
    "    blok kod peurgaset ma vez gwir an amplegad 1\n",
    "elif amplegad2:\n",
    "    blok kod peurgaset ma vez gwir an amplegad 2\n",
    "elif amplegad3:\n",
    "    blok kod peurgaset ma vez gwir an amplegad 3\n",
    "else:\n",
    "    blok kod peurgaset ma vez faos tout an amplegadoù"
   ]
  },
  {
   "cell_type": "markdown",
   "metadata": {
    "colab_type": "text",
    "id": "v2ZEPwcfYkCZ"
   },
   "source": [
    "Un **amplegad** a zo ur stadamant gant un disoc'h gwir pe gaou nemetken (`True` pe `False` e Python).<br>\n",
    "Ur **c'henveriadenn** etre div talvoud a zo un doare amplegadenn.\n",
    "<table>\n",
    "  <tr>\n",
    "    <td>==</td>\n",
    "    <td>kevatal da</td>\n",
    "  </tr>\n",
    "  <tr>\n",
    "    <td>!=</td>\n",
    "    <td>disheñvel eget</td>\n",
    "  </tr>\n",
    "  <tr>\n",
    "    <td>></td>\n",
    "    <td>brasoc'h striz eget</td>\n",
    "  </tr>\n",
    "  <tr>\n",
    "    <td>>=</td>\n",
    "    <td>brasoc'h pe kevatal da</td>\n",
    "  </tr>\n",
    "  <tr>\n",
    "    <td>&lt;</td>\n",
    "    <td>bihanoc'h striz eget</td>\n",
    "  </tr>\n",
    "  <tr>\n",
    "    <td>&lt;=</td>\n",
    "    <td>bihanoc'h pe kevatal da</td>\n",
    "  </tr>\n",
    "</table>\n"
   ]
  },
  {
   "cell_type": "code",
   "execution_count": null,
   "metadata": {
    "colab": {},
    "colab_type": "code",
    "id": "gcXW37vJd3AV"
   },
   "outputs": [],
   "source": [
    "# Disoc'h un nebeut amplegadoù\n",
    "\n",
    "print(1 == 2)\n",
    "print(1 < 2)\n",
    "print(\"yes\" != \"no\")\n",
    "print(\"tomato\" == \"tomato\")\n",
    "print(\"zebr\" < \"leon\")  # Ar chadennoù lizherennek a vezont keñveriet en un doare alfabetikel"
   ]
  },
  {
   "cell_type": "code",
   "execution_count": null,
   "metadata": {
    "colab": {},
    "colab_type": "code",
    "id": "4anPn0TexEfE"
   },
   "outputs": [],
   "source": [
    "notennoù_jobig = [14.5, 13, 6, 8.5, 14, 9.5, 10, 12.5, 16]\n",
    "notennoù_mat = []\n",
    "notennoù_fall = []\n",
    "bevenn = 10         # Cheñchit ar bevenn evit gwellet an disoc'h\n",
    "\n",
    "notennoù_jobig.sort()    # Kenkoulz lakaat an notennoù en urzh da gentañ\n",
    "\n",
    "for notenn in notennoù_jobig:\n",
    "    if notenn >= bevenn:\n",
    "        notennoù_mat.append(notenn)\n",
    "    else:\n",
    "        notennoù_fall.append(notenn)\n",
    "\n",
    "print(\"Notennoù mat :\", notennoù_mat)\n",
    "print(\"Notennoù fall :\", notennoù_fall)"
   ]
  },
  {
   "cell_type": "markdown",
   "metadata": {
    "colab_type": "text",
    "id": "sMSTAITpqvF2"
   },
   "source": [
    "Tu zo kevrediñ an amplegadoù gant **oberiadennoù lojikel** (pe **oberiadennoù boolean**).<br>\n",
    "<table>\n",
    "  <tr>\n",
    "    <th>Oberiadenn boolean</th>\n",
    "    <th>Disoc'h</th>\n",
    "  </tr>\n",
    "  <tr>\n",
    "    <td><code>A and B</code></td>\n",
    "    <td><code>True</code> ma'z eo gwir A <strong>ha</strong> gwir B,<br><code>False</code> mod all</td>\n",
    "  </tr>\n",
    "  <tr>\n",
    "    <td><code>A or B</code></td>\n",
    "    <td><code>True</code> ma'z eo gwir A <strong>pe</strong> B,<br><code>False</code> ma'z eo gwir na A, na B</td>\n",
    "  </tr>\n",
    "  <tr>\n",
    "    <td><code>not A</code></td>\n",
    "    <td><code>True</code> m'az eo faos A,<br><code>False</code> ma'z eo gwir A</td>\n",
    "  </tr>\n",
    "</table>\n"
   ]
  },
  {
   "cell_type": "code",
   "execution_count": null,
   "metadata": {
    "colab": {},
    "colab_type": "code",
    "id": "1qImBCuE07Nr"
   },
   "outputs": [],
   "source": [
    "data = [-8, 61, 12, 3, 4, -90, 13, 8, 0, 28, 1, 112, 10, 8]\n",
    "silet = []\n",
    "\n",
    "# Silet e vez an talvoudoù evit mirout ar re a zo etre 0 ha 10 nemetken\n",
    "for talvout in data:\n",
    "    if talvout >= 0 and talvout <= 10:\n",
    "        silet.append(talvout)\n",
    "\n",
    "print(silet)"
   ]
  },
  {
   "cell_type": "markdown",
   "metadata": {
    "colab_type": "text",
    "id": "LsylzjJJRcu0"
   },
   "source": [
    "## Ar rodell `while`"
   ]
  },
  {
   "cell_type": "markdown",
   "metadata": {
    "colab_type": "text",
    "id": "yVCu9-anWP9Z"
   },
   "source": [
    "Ar rodell `while` a vez implijet evit peurgas un blok kod adare, keit a ma vez asantet d'un **amplegad**. Ma vez gwir an amplegad e vo kendalc'het ar rodell. Paouez a raio ar rodell nemet ma vez faos an amplegad. Na zisoñjit ket endantañ ar blok kod !<br>\n",
    "Skrivet e vez :\n",
    "<pre>\n",
    "while amplegad:\n",
    "    blok kod...\n",
    "</pre>"
   ]
  },
  {
   "cell_type": "code",
   "execution_count": null,
   "metadata": {
    "colab": {},
    "colab_type": "code",
    "id": "0iBFteFoXiWj"
   },
   "outputs": [],
   "source": [
    "a = 1\n",
    "while a <= 1000:    # Keit a ma'z eo 'a' bihanoc'h pe kevatal da 1000...\n",
    "    a = a*2\n",
    "\n",
    "print(a)"
   ]
  },
  {
   "cell_type": "markdown",
   "metadata": {
    "colab_type": "text",
    "id": "tOey0rQwBjXj"
   },
   "source": [
    "Ar fonksion `input` a enkas ur talvoud goulennet d'an implijer. An etrefas simplañ eo etre ar program hag an implijer.<br>\n",
    "Diwallit gant ar pezh a vez adkaset gant ar fonksion `input`. Atav e vo ur **chadenn lizherennek**. M'o peus ezhomm goulenn un niverenn e vo ret deoc'h amdreiñ ar roadenn adkaset gant ar fonksion `int` pe `float`."
   ]
  },
  {
   "cell_type": "code",
   "execution_count": null,
   "metadata": {
    "colab": {},
    "colab_type": "code",
    "id": "p7Ad5B54hJ0N"
   },
   "outputs": [],
   "source": [
    "# Gwiriekaat ar pez a vez respontet gant an implijer\n",
    "\n",
    "r = input(\"Soubenn pe fritez ? \")\n",
    "while r not in [\"soubenn\", \"fritez\"]:\n",
    "    print(\"N'eo ket\", r, \"er roll boued...\")\n",
    "    r = input(\"Soubenn pe fritez ? \")\n",
    "\n",
    "print(r, \"a vo debret fenoz !\")"
   ]
  },
  {
   "cell_type": "code",
   "execution_count": null,
   "metadata": {
    "colab": {},
    "colab_type": "code",
    "id": "YNIcZV_0bqb5"
   },
   "outputs": [],
   "source": [
    "# Ar rodell mañ ne paouezo morse. Paouezit anezhi \"dre-dorn\" gant ar bouton \"stop\"\n",
    "# \"pass\" a zo ur stadamant ispisial avit lavar da Python ober netra\n",
    "while True:\n",
    "    pass"
   ]
  },
  {
   "cell_type": "code",
   "execution_count": null,
   "metadata": {
    "colab": {
     "base_uri": "https://localhost:8080/",
     "height": 52
    },
    "colab_type": "code",
    "executionInfo": {
     "elapsed": 429,
     "status": "ok",
     "timestamp": 1570712282995,
     "user": {
      "displayName": "Gweltaz Duval-Guennoc",
      "photoUrl": "",
      "userId": "07041882788500535840"
     },
     "user_tz": -120
    },
    "id": "Hw2iuETut9K3",
    "outputId": "6e33881d-6e7c-4ead-d04b-9c357858da7d"
   },
   "outputs": [],
   "source": [
    "# To zo mont er maez eus ur rodell neusforz peur gant ar stadamant 'break'\n",
    "i=0\n",
    "while True:\n",
    "    if i==100:\n",
    "        print(\"Paouezet e vez ar rodell\")\n",
    "        break\n",
    "    i += 1\n",
    "\n",
    "print(\"Talvoud 'i' :\", i)"
   ]
  },
  {
   "cell_type": "markdown",
   "metadata": {
    "colab_type": "text",
    "id": "FkIrIrz8liiW"
   },
   "source": [
    "## Poelladenn 1 : taolenn lieskementiñ"
   ]
  },
  {
   "cell_type": "markdown",
   "metadata": {
    "colab_type": "text",
    "id": "x--Aj37oRq5a"
   },
   "source": [
    "Skrivit un poellad evit diskouez an taolennoù lieskementiñ (taolennoù etre 1 ha 10) gant ar fonksion `print`.\n",
    "C'hoant on eus un disoc'h eus ar stumm :<br>\n",
    "<pre><code>\n",
    "1×1 = 1\n",
    "1×2 = 2\n",
    "1×3 = 3\n",
    "1×4 = 4\n",
    "1×5 = 5\n",
    "1×6 = 6\n",
    "1×7 = 7\n",
    "1×8 = 8\n",
    "1×9 = 9\n",
    "2×1 = 2\n",
    "2×2 = 4\n",
    "2×3 = 6\n",
    "2×4 = 8\n",
    "2×5 = 10\n",
    "2×6 = 12\n",
    "...</code></pre>"
   ]
  },
  {
   "cell_type": "code",
   "execution_count": null,
   "metadata": {
    "colab": {},
    "colab_type": "code",
    "id": "_WriuW81ZD0I"
   },
   "outputs": [],
   "source": [
    "# Un daolenn lieskementiñ\n",
    "\n",
    "# DA SKRIVAÑ"
   ]
  },
  {
   "cell_type": "markdown",
   "metadata": {
    "colab_type": "text",
    "id": "zsuUGjGylvAU"
   },
   "source": [
    "## Poelladenn 2 : Kouplajoù"
   ]
  },
  {
   "cell_type": "markdown",
   "metadata": {
    "colab_type": "text",
    "id": "i2ZpFT4LmDyU"
   },
   "source": [
    "Kodit ur poellad a skriv war ar skramm tout ar c'houblajoù possubl etre an dud kavet el listennad `anviou`"
   ]
  },
  {
   "cell_type": "code",
   "execution_count": null,
   "metadata": {
    "colab": {},
    "colab_type": "code",
    "id": "rklSBBkcZD0R"
   },
   "outputs": [],
   "source": [
    "# Tout ar c'houblajoù posubl (doare simpl)\n",
    "\n",
    "anviou = [\"Lomig\", \"Jobig\", \"Herve\", \"Anna\", \"Enora\", \"Katell\"]\n",
    "\n",
    "# DA SKRIVAÑ"
   ]
  },
  {
   "cell_type": "markdown",
   "metadata": {
    "colab_type": "text",
    "id": "Nsfz2pVCnkvc"
   },
   "source": [
    "Memes tra, met klaskit chomm hep diskouezh doublenn ebet (adksrivañ ur c'houblad eilpennet a kont evit un doublenn)."
   ]
  },
  {
   "cell_type": "code",
   "execution_count": null,
   "metadata": {
    "colab": {},
    "colab_type": "code",
    "id": "mHOeekHPAIp6"
   },
   "outputs": [],
   "source": [
    "# Tout ar c'houblajoù posubl (hep doublenn ebet)\n",
    "\n",
    "anviou = [\"Lomig\", \"Jobig\", \"Herve\", \"Anna\", \"Enora\", \"Katell\"]\n",
    "\n",
    "# DA SKRIVAÑ"
   ]
  },
  {
   "cell_type": "markdown",
   "metadata": {
    "colab_type": "text",
    "id": "8ywkSJr1oZTL"
   },
   "source": [
    "## Poelladenn 3 : Ur pyramiden"
   ]
  },
  {
   "cell_type": "markdown",
   "metadata": {
    "colab_type": "text",
    "id": "N3soSV_copJx"
   },
   "source": [
    "Kodit ur poellad a diskouez ur piramidenn graet gant stered '`*`' (pe un arouez all m'ho peus c'hoant...).<br>\n",
    "Ment ar pyramidenn a vo deraouet er varienn `ment`. Savet e vo ar piramidenn hervez ar varienn-se.<br>\n",
    "Sa skouer, evit ur ment 7 e vez gortozet un disoc'h eus ar stumm :\n",
    "<pre>\n",
    "      *\n",
    "     ***\n",
    "    *****\n",
    "   *******\n",
    "  *********\n",
    " ***********\n",
    "*************\n",
    "</pre>"
   ]
  },
  {
   "cell_type": "code",
   "execution_count": null,
   "metadata": {
    "colab": {},
    "colab_type": "code",
    "id": "wN-feUMrpwxk"
   },
   "outputs": [],
   "source": [
    "ment = 32\n",
    "\n",
    "# DA SKRIVAÑ"
   ]
  }
 ],
 "metadata": {
  "colab": {
   "collapsed_sections": [],
   "name": "Kentel_Python_01.ipynb",
   "provenance": []
  },
  "kernelspec": {
   "display_name": "Python 3",
   "language": "python",
   "name": "python3"
  },
  "language_info": {
   "codemirror_mode": {
    "name": "ipython",
    "version": 3
   },
   "file_extension": ".py",
   "mimetype": "text/x-python",
   "name": "python",
   "nbconvert_exporter": "python",
   "pygments_lexer": "ipython3",
   "version": "3.7.3"
  }
 },
 "nbformat": 4,
 "nbformat_minor": 1
}

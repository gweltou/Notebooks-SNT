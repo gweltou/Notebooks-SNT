{
 "cells": [
  {
   "cell_type": "markdown",
   "metadata": {
    "colab_type": "text",
    "id": "RDCAxBHJAnVS"
   },
   "source": [
    "# Kentel Python3 - Grafikoù"
   ]
  },
  {
   "cell_type": "markdown",
   "metadata": {},
   "source": [
    "## Dispenn an izotopoù radioaktivel"
   ]
  },
  {
   "cell_type": "markdown",
   "metadata": {
    "colab_type": "text",
    "id": "_OeX9mQv5wHR"
   },
   "source": [
    "Gant ar fonksionoù ankivil [aléatoires] (pe kentoc'h damankivil [pseudo-aléatoire]) hag ar fed gallout ober kalz a jedadennoù buan tre eo an urzhiataerioù ostilhoù dispar evit ober darvanoù [simulations] luziet."
   ]
  },
  {
   "cell_type": "markdown",
   "metadata": {
    "colab_type": "text",
    "id": "_vkxKcVZI_y-"
   },
   "source": [
    "Klasket e vo darvanañ digresk eksponantel ur c'hementad a rannigoù radioaktivel e kerz an amzer.<br>\n",
    "Kroget e vo da tresañ grafik fonksion matematikel an digresk eksponantel evit gwelet he stumm ha pleustriñ gant ar grafikoù.<br>\n",
    "Kendalc'het e vo gant un darvan eeunek ha difetiz a-walc'h (met reiz memes tra).<br>\n",
    "Echuet e vo gant un darvan tostoc'h d'ar gwirion (ar pezh a fell deomp)."
   ]
  },
  {
   "cell_type": "markdown",
   "metadata": {
    "colab_type": "text",
    "id": "SoHzlT2zC5hr"
   },
   "source": [
    "Gouzout a reomp un digresk eksponantel a zo eus ar stumm<br>\n",
    "$\\begin{equation}\n",
    "N(t) = N_0 \\times e^{-\\lambda t}\n",
    "\\end{equation}$<br><br>\n",
    "Gant :<br>\n",
    "$N_0$ Niver a rannigoù radioaktivel da gentañ (en amzer $t_0$)<br>\n",
    "$\\lambda$ Ar c'honstantenn digresk<br>\n",
    "$t$ an amzer"
   ]
  },
  {
   "cell_type": "markdown",
   "metadata": {
    "colab_type": "text",
    "id": "nIWBt6oVKcUu"
   },
   "source": [
    "## Grafikoù gant ar module `matplotlib`"
   ]
  },
  {
   "cell_type": "markdown",
   "metadata": {
    "colab_type": "text",
    "id": "N8BLtMreHACS"
   },
   "source": [
    "Tu vefe termeniñ ur fonksion `N(t)` gant Python met `matplotlib` ne oar ket tresañ fonksionoù evel-se. Implijet e vez **listennoù roadennoù niverel** nemetken evit tresañ grafikoù."
   ]
  },
  {
   "cell_type": "code",
   "execution_count": null,
   "metadata": {
    "colab": {},
    "colab_type": "code",
    "id": "ogO2tsquMTQ-"
   },
   "outputs": [],
   "source": [
    "# Enframmet e vez ar module evit tresañ grafikoù\n",
    "import matplotlib.pyplot as plt\n",
    "# Ar ger 'as' a servij d'ober un alias etre matplotlib.pyplot ha plt\n",
    "# Berroc'h ha kevatal e vo skrivañ 'plt' eget 'matplotlib.pyplot'"
   ]
  },
  {
   "cell_type": "code",
   "execution_count": null,
   "metadata": {
    "colab": {},
    "colab_type": "code",
    "id": "bry0JAuINDeA"
   },
   "outputs": [],
   "source": [
    "# Ur skouer simpl\n",
    "\n",
    "roadennou = [1, 2.2, 4, 8.9, 6, 5, 3, 1, 1.5, 0.2]\n",
    "\n",
    "plt.plot(roadennou)  # Tresañ ar grafik (e memor an urzhiataer)\n",
    "plt.show()           # Diskouez ar grafik war ar skramm"
   ]
  },
  {
   "cell_type": "code",
   "execution_count": null,
   "metadata": {
    "colab": {},
    "colab_type": "code",
    "id": "5CQSV20gONi8"
   },
   "outputs": [],
   "source": [
    "# Tresomp an digresk eksponantel bremañ\n",
    "\n",
    "# Kavet e vez ar fonksion eksponantel e-barzh ar module 'math'\n",
    "from math import exp\n",
    "\n",
    "kde = 0.1  # Konstantenn digresk eksponantel\n",
    "n0 = 1000\n",
    "\n",
    "roadennou = []\n",
    "\n",
    "# Jedet e vez 100 talvoud da-heul\n",
    "for t in range(100):\n",
    "    roadennou.append(n0*exp(-kde*t))\n",
    "\n",
    "plt.plot(roadennou)\n",
    "plt.show()"
   ]
  },
  {
   "cell_type": "markdown",
   "metadata": {
    "colab_type": "text",
    "id": "QOL45t_8RMP4"
   },
   "source": [
    "## Un darvan difetiz"
   ]
  },
  {
   "cell_type": "markdown",
   "metadata": {
    "colab_type": "text",
    "id": "l9HswP3iRQSk"
   },
   "source": [
    "Pep rannig radioaktivel eus ar memes sort en eus ar memes probablentez bezañ dispennet e pad ur c'houlzad bennak.<br>\n",
    "Ma vez lavaret, da skouer, ez eo 1% ar probablentez evit ur rannig bezañ dispennet e-kerzh ur c'houlzad e dalvez ivez e vo dispennet 1% eus kementad ar rannigoù e-kerzh ar c'houlzad."
   ]
  },
  {
   "cell_type": "code",
   "execution_count": null,
   "metadata": {
    "colab": {},
    "colab_type": "code",
    "id": "XN5h6ykgUDov"
   },
   "outputs": [],
   "source": [
    "prob_dispenn = 0.1\n",
    "n0 = 1000\n",
    "\n",
    "# Lakaet e vez talvoud n0 el listenn\n",
    "roadennou = [n0]\n",
    "\n",
    "for i in range(100):\n",
    "    # Kemeret e vez an talvoud diwezhañ el listenn\n",
    "    # Lemet e vez an niver a rannigoù dispennet e-kerzh ar c'houlzad\n",
    "    # ouzhpennet e vez an talvoud nevez e fin al listenn\n",
    "    roadennou.append(roadennou[i] - roadennou[i]*prob_dispenn)\n",
    "\n",
    "plt.plot(roadennou)\n",
    "plt.show()"
   ]
  },
  {
   "cell_type": "markdown",
   "metadata": {
    "colab_type": "text",
    "id": "9wOloNT_NFXU"
   },
   "source": [
    "## Un darvan tostoc'h eus ar gwirionnez"
   ]
  },
  {
   "cell_type": "markdown",
   "metadata": {
    "colab_type": "text",
    "id": "p8KMhJQ9XlSF"
   },
   "source": [
    "Ar skouerioù a-us a heulie formulennoù matematikel anavezet en araok. Ar formulennoù matematikel a zo dedennus evit diskriv ar fenomenoù naturel a-bell, a geidenn hag en un doare parfed met ar fenomenoù naturel ne heuliont ket formulennoù matematikel dre ret pa vezont sellet a-dost. Setup perak ne oant ket darvanoù da vat.<br>\n",
    "Evit kaout un darvan gwir e vez roet perzhioù ar sistem nemetken hag an diskoulm a vez dianavezet en araok. Pep gwech ma vez peurgaset an darvan e c'heller kavout un diskoulm disheñvel."
   ]
  },
  {
   "cell_type": "code",
   "execution_count": null,
   "metadata": {
    "colab": {},
    "colab_type": "code",
    "id": "80Jpwq8XA7WX"
   },
   "outputs": [],
   "source": [
    "# Enframmañ ar module evit implij fonksionoù ankivil\n",
    "import random"
   ]
  },
  {
   "cell_type": "code",
   "execution_count": null,
   "metadata": {
    "colab": {},
    "colab_type": "code",
    "id": "5w9oNJZ8BoFx"
   },
   "outputs": [],
   "source": [
    "# Cheñchit talvoud ar roadennoù-se hervez o c'hoantoù\n",
    "prob_dispenn = 0.1\n",
    "rannigou = 1000\n",
    "\n",
    "# El listenn 'mañ e vo miret ar roadennou net jedet\n",
    "roadennou = [rannigou]\n",
    "\n",
    "while rannigou>0:\n",
    "    # Evit pep rannig a chom e vez tennet un niverenn d'ar sort\n",
    "    for i in range(rannigou):\n",
    "        # Ma 'vez tennet un niverenn bihanoc'h eget ar probablentez dibabet\n",
    "        # e vez dispennet ur rannig\n",
    "        if random.random() < prob_dispenn:\n",
    "            rannigou -= 1\n",
    "    \n",
    "    # E fin ar roll e vez stoked a niver a rannigoù a chom en omp listennad data\n",
    "    roadennou.append(rannigou)"
   ]
  },
  {
   "cell_type": "markdown",
   "metadata": {
    "colab_type": "text",
    "id": "yUxpCVI0D27N"
   },
   "source": [
    "Bremañ ne chom nemet da dresañ an data bet jedet war ur grafik brav gant ar stadamantoù da-heul."
   ]
  },
  {
   "cell_type": "code",
   "execution_count": null,
   "metadata": {
    "colab": {},
    "colab_type": "code",
    "id": "Qy0wCbx_XqCV"
   },
   "outputs": [],
   "source": [
    "# Cheñch ment ar grafik\n",
    "plt.rcParams[\"figure.figsize\"] = [12, 8]\n",
    "\n",
    "# Tresañ ar grafik\n",
    "plt.plot(roadennou)\n",
    "\n",
    "# Dibab un titl (dirediet)\n",
    "plt.title(\"Dispenn an izotopoù radioaktivel\")\n",
    "\n",
    "# Dibab anvioù evit an axoù (dirediet)\n",
    "plt.xlabel(\"Red an amzer (koulzadoù)\")\n",
    "plt.ylabel(\"Niver a rannigoù\")\n",
    "\n",
    "# Diskouez ar grafik\n",
    "plt.show()"
   ]
  }
 ],
 "metadata": {
  "colab": {
   "collapsed_sections": [],
   "name": "Kentel_Python_Grafik_Radioaktivel.ipynb",
   "provenance": []
  },
  "kernelspec": {
   "display_name": "Python 3",
   "language": "python",
   "name": "python3"
  },
  "language_info": {
   "codemirror_mode": {
    "name": "ipython",
    "version": 3
   },
   "file_extension": ".py",
   "mimetype": "text/x-python",
   "name": "python",
   "nbconvert_exporter": "python",
   "pygments_lexer": "ipython3",
   "version": "3.7.3"
  }
 },
 "nbformat": 4,
 "nbformat_minor": 1
}

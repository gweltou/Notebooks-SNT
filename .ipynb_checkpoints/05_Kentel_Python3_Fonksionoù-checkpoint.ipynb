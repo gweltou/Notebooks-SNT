{
 "cells": [
  {
   "cell_type": "markdown",
   "metadata": {
    "colab_type": "text",
    "id": "JYjqXDni3HM9"
   },
   "source": [
    "# Kentel Python3 - Ar fonksionoù"
   ]
  },
  {
   "cell_type": "markdown",
   "metadata": {
    "colab_type": "text",
    "id": "v2I1nbtAdRh9"
   },
   "source": [
    "Kavet e vez ur bern fonksionoù e barzh Python (gwellet eo bet ganeomp `print`, `type`, `input`, `range` hag all) hag e barzh e moduloù diavaez met alies on o ezhomm termeniñ fonksionoù ouzhpenn skrivet ganeomp. Ur fonksion a c'hell bezañ ken simpl hag ur fonksion afin pe ken luziet hag ur fonksion tretamant skeudenn.<br>\n",
    "Ar ger ispisial `def` a vez implijet evit termeniñ ur fonksion nevez.<br>\n",
    "Alies e vo adkaset un talvoud bennak (un disoc'h da skouer) e dibenn ar fonksion, gant ar ger ispisial `return`. Tu 'zo adkas neusforz peseurt doare data bet gwellet ganeomp.<br>\n",
    "Pa vez kavet ar ger `return` e-barzh ar fonksion e vez harzet ar fonksion dioustu goude bezañ bet adkaset an talvoud disoc'h (pa vez unan). Ar stadamantoù kavet war-lec'h ne vint morse peurgaset."
   ]
  },
  {
   "cell_type": "code",
   "execution_count": null,
   "metadata": {
    "colab": {},
    "colab_type": "code",
    "id": "jgd2abl45i5V"
   },
   "outputs": [],
   "source": [
    "# Ur fonksion afin simpl galvet 'f'\n",
    "\n",
    "def f(x):\n",
    "  return 3*x + 7"
   ]
  },
  {
   "cell_type": "markdown",
   "metadata": {
    "colab_type": "text",
    "id": "x6SJ6oTj6FhR"
   },
   "source": [
    "Er skouer a-us, roet e vez an añv `f` d'ar fonksion.<br>\n",
    "Gortozet e vez un **arguzenn** gant ar fonksion hag a vo lakaet e-barzh ar varienn `x`.<br>\n",
    "Adkaset e vo un talvoud gant ar fonksion dre ar ger `return` : disoc'h ar jedadenn `3*x + 7`"
   ]
  },
  {
   "cell_type": "code",
   "execution_count": null,
   "metadata": {
    "colab": {},
    "colab_type": "code",
    "id": "i_0h9agL72HQ"
   },
   "outputs": [],
   "source": [
    "# Bremañ ma'z eo termenet omp fonksion, setu penaos ez eus tu gervel anezhi :\n",
    "\n",
    "f(7)"
   ]
  },
  {
   "cell_type": "code",
   "execution_count": null,
   "metadata": {
    "colab": {},
    "colab_type": "code",
    "id": "j9tnB3iw8NTl"
   },
   "outputs": [],
   "source": [
    "y = f(-9)\n",
    "print(y)"
   ]
  },
  {
   "cell_type": "code",
   "execution_count": null,
   "metadata": {
    "colab": {},
    "colab_type": "code",
    "id": "G4oa4lJp8WqQ"
   },
   "outputs": [],
   "source": [
    "# Diwallit d'an doareoù data a vez kaset d'ar fonksion\n",
    "f(\"test\")"
   ]
  },
  {
   "cell_type": "code",
   "execution_count": null,
   "metadata": {
    "colab": {},
    "colab_type": "code",
    "id": "K5pNaNfA8h0l"
   },
   "outputs": [],
   "source": [
    "for i in range(10):\n",
    "    # Aze e vez roet un arguzenn ouzhpenn d'ar fonksion 'print',\n",
    "    # an arguzenn anaoueded 'end', evit lavar echuiñ an testenn\n",
    "    # gant un esaouenn kentoc'h eget ul lamm linenn\n",
    "    print(f(i), end=' ')"
   ]
  },
  {
   "cell_type": "markdown",
   "metadata": {
    "colab_type": "text",
    "id": "8o6L-InA--fn"
   },
   "source": [
    "Ur fonksion a c'hell kaout un efed war ar program hep adkas talvoud ebet"
   ]
  },
  {
   "cell_type": "code",
   "execution_count": null,
   "metadata": {
    "colab": {},
    "colab_type": "code",
    "id": "snuu01LH_Vwp"
   },
   "outputs": [],
   "source": [
    "# Ur fonksion a gemer arguzenn ebet ha na adkas talvoud ebet\n",
    "\n",
    "def harzh():\n",
    "    print(\"Gaou !\")"
   ]
  },
  {
   "cell_type": "code",
   "execution_count": null,
   "metadata": {
    "colab": {},
    "colab_type": "code",
    "id": "-tZ5bFigAAV1"
   },
   "outputs": [],
   "source": [
    "for i in range(3):\n",
    "    harzh()\n",
    "print(\"Eme Toutouig, va c'hi muiañ karret\")"
   ]
  },
  {
   "cell_type": "code",
   "execution_count": null,
   "metadata": {
    "colab": {},
    "colab_type": "code",
    "id": "WGz998ShAX86"
   },
   "outputs": [],
   "source": [
    "# Netra ('None') a vez adkaset gant ar fonksion 'harzh'\n",
    "\n",
    "y = harzh()\n",
    "print(y)"
   ]
  },
  {
   "cell_type": "markdown",
   "metadata": {
    "colab_type": "text",
    "id": "QF5Af912Dh-2"
   },
   "source": [
    "Meur a arguzennoù a c'heller kas d'ho fonksion, m'az int bet termenet"
   ]
  },
  {
   "cell_type": "code",
   "execution_count": null,
   "metadata": {
    "colab": {},
    "colab_type": "code",
    "id": "yPfRaBddCJ35"
   },
   "outputs": [],
   "source": [
    "# Ur fonksion a gemer meur a arguzennoù evit jediñ ur gallout\n",
    "# Met evel just, aesoc'h eo implij ar stadamant a**b\n",
    "\n",
    "def gallout(a, b):\n",
    "    dis = 1\n",
    "    for i in range(b):\n",
    "        dis *= a\n",
    "    return dis"
   ]
  },
  {
   "cell_type": "code",
   "execution_count": null,
   "metadata": {
    "colab": {},
    "colab_type": "code",
    "id": "iqNR86_tCswl"
   },
   "outputs": [],
   "source": [
    "gallout(2, 8)"
   ]
  },
  {
   "cell_type": "markdown",
   "metadata": {
    "colab_type": "text",
    "id": "2xOsYRrlEoNX"
   },
   "source": [
    "### Poelladenn : Faktorial"
   ]
  },
  {
   "cell_type": "markdown",
   "metadata": {},
   "source": [
    "Skrivit ur fonksion hag a jed [faktorial](https://https://fr.wikipedia.org/wiki/Factorielle) an arguzenn bet roet dezhi.<br>\n",
    "Da skouer: `factorial(5)` a rank adkas `120`"
   ]
  },
  {
   "cell_type": "code",
   "execution_count": null,
   "metadata": {
    "colab": {},
    "colab_type": "code",
    "id": "zep24xB5FBLQ"
   },
   "outputs": [],
   "source": [
    "def faktorial(x):\n",
    "    # Skrivit o fonksion da-heul\n",
    "    \n"
   ]
  },
  {
   "cell_type": "code",
   "execution_count": null,
   "metadata": {
    "colab": {},
    "colab_type": "code",
    "id": "QTbv0cSWFOJC"
   },
   "outputs": [],
   "source": [
    "# Bremañ e vo gwiriekaet o fonksion\n",
    "\n",
    "disochou = [0, 1, 2, 6, 24, 120, 720, 5040, 40320]\n",
    "for i in range(len(disochou)):\n",
    "    talvoud = faktorial(i)\n",
    "    print(f\"faktorial({i})\")\n",
    "    print(f\"    Disoc'h gortozet: {disochou[i]}\")\n",
    "    print(f\"    Talvoud adkaset: {talvoud}\")\n",
    "    print()\n",
    "    if talvoud != disochou[i]:\n",
    "        print(\"¡¡¡¡ FAZI !!!!\")\n",
    "        break\n",
    "\n",
    "\n",
    "if i == len(disochou)-1:\n",
    "    print(\"MAD TRE !\")\n"
   ]
  }
 ],
 "metadata": {
  "colab": {
   "collapsed_sections": [
    "YGk6s7ltZS-O",
    "_lSufAN3au6N",
    "kB_Ra7J8DrYl",
    "sf3BNEa3aziA",
    "kXHZBkWa8bCc",
    "ethDg642_g2h",
    "tFAhs7zkAeqG",
    "fcC5srIe8fty"
   ],
   "name": "Kentel_Python_02.ipynb",
   "provenance": [
    {
     "file_id": "10qAWaGbQo2mbyWABzjjGrMwToPqDd_rx",
     "timestamp": 1570466190770
    }
   ]
  },
  "kernelspec": {
   "display_name": "Python 3",
   "language": "python",
   "name": "python3"
  },
  "language_info": {
   "codemirror_mode": {
    "name": "ipython",
    "version": 3
   },
   "file_extension": ".py",
   "mimetype": "text/x-python",
   "name": "python",
   "nbconvert_exporter": "python",
   "pygments_lexer": "ipython3",
   "version": "3.7.3"
  }
 },
 "nbformat": 4,
 "nbformat_minor": 1
}

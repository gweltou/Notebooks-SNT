{
 "cells": [
  {
   "cell_type": "markdown",
   "metadata": {
    "colab_type": "text",
    "id": "6Nlq4rgvakh_"
   },
   "source": [
    "# Kentel Python3 - Al listennoù"
   ]
  },
  {
   "cell_type": "markdown",
   "metadata": {
    "colab_type": "text",
    "id": "d0VbWaWee55B"
   },
   "source": [
    "Al listennoù a zo un doare data **kompozet** gant roadennoù all, **finit** hag **urzhiet**.<br>\n",
    "Ul listenn a c'hell dougen neusforz peseurt niver a roadenn gant doareoù disheñvel.<br>\n",
    "Termenet e vez un listenn pa vez meur a roadenn da-heul, dispartiet gant **skejoù** ha bevennet gant **krommelloù karrez**."
   ]
  },
  {
   "cell_type": "code",
   "execution_count": null,
   "metadata": {
    "colab": {},
    "colab_type": "code",
    "id": "_W8lSDPQlaZR"
   },
   "outputs": [],
   "source": [
    "# Setu ul listenn o tougen roadennoù a doare disheñvel\n",
    "[5, \"glas\", -10, print, \"WASSUP ?\", 3.1415]\n",
    "\n",
    "# Evit krouiñ ul listenn goulo e vez skrivet krommelloù hep netra en diabarzh\n",
    "listenn_goulo = []\n",
    "\n",
    "# tu 'zo ivez implij ar fonksion \"list\"\n",
    "listenn_goulo_2 = list()\n",
    "\n",
    "print(listenn_goulo)\n",
    "print(listenn_goulo_2)"
   ]
  },
  {
   "cell_type": "markdown",
   "metadata": {},
   "source": [
    "## Ouzhpennañ ha tizhout elfennoù"
   ]
  },
  {
   "cell_type": "markdown",
   "metadata": {
    "colab_type": "text",
    "id": "6Y3JcahVnLGD"
   },
   "source": [
    "Evit ouzhpennañ roadennoù e-barzh al listenn e vez implijet ar **metod** `append`.<br>\n",
    "Ur **metod** a zo ur fonksion liammet d'un doare data nemetken. Gant pep doare data e teu alies meur a metodoù. Dizoloet e vint ganeomp tamm-ha-tamm.<br>\n",
    "Implijet e vez ur metod evel ur fonksion boutin met skrivet e vez e anv da-heul anv ur varienn, gant ur **pik** etrezo."
   ]
  },
  {
   "cell_type": "code",
   "execution_count": null,
   "metadata": {
    "colab": {},
    "colab_type": "code",
    "id": "lpyrtkZKmkAG"
   },
   "outputs": [],
   "source": [
    "liviou = list()\n",
    "liviou.append(\"du\")\n",
    "liviou.append(\"gwer\")\n",
    "liviou.append(\"glas\")\n",
    "liviou.append(\"melen\")\n",
    "liviou.append(\"ruz\")\n",
    "\n",
    "print(liviou)"
   ]
  },
  {
   "cell_type": "markdown",
   "metadata": {
    "colab_type": "text",
    "id": "0MIGMYTSMWkD"
   },
   "source": [
    "Tu zo sammañ div listenn gant an arouez `+` ha lieskementañ ul listenn gant un niverenn bennak gant an arouez `*`. Arabat disoñjal lakaat an disoc'h en ur varienn evit mirout anezhañ."
   ]
  },
  {
   "cell_type": "code",
   "execution_count": null,
   "metadata": {
    "colab": {},
    "colab_type": "code",
    "id": "aRSX4XddNX3k"
   },
   "outputs": [],
   "source": [
    "adn = ['a', 'c', 'c', 'g']\n",
    "adn = adn + ['c', 'a', 't']\n",
    "print(adn)\n",
    "adn = adn + 3 * ['g']\n",
    "print(adn)\n",
    "adn *= 2         # Memes tra ha adn = adn * 2\n",
    "\n",
    "print(adn)"
   ]
  },
  {
   "cell_type": "markdown",
   "metadata": {
    "colab_type": "text",
    "id": "tbliTPxWr_51"
   },
   "source": [
    "Evit tizhout un elfenn eus al listenn nemetken, pe un heuliad elfennoù e-barzh al listenn, e vez implijet un **index**. An index a zo renk en elfenn el listenn. Diwallit, **kregiñ a ra renk an elfennoù gant an niverenn 0**.<br>\n",
    "Roet e vez an index etre krommelloù karrez war-lec'h anv al listenn."
   ]
  },
  {
   "cell_type": "code",
   "execution_count": null,
   "metadata": {
    "colab": {},
    "colab_type": "code",
    "id": "3zbOA6H4th1I"
   },
   "outputs": [],
   "source": [
    "# Tizhout elfenn kentañ al listenn \"liviou\"\n",
    "print(\"Elfenn kentañ :\", liviou[0])\n",
    "\n",
    "# Tizhout an elfenn diwezhañ (pa ouezit an niver a elfennoù el listenn)\n",
    "print(\"Elfenn diwezhañ :\", liviou[4])\n",
    "\n",
    "# Pa vez roet un index negativel e vez kontet ar renk adalek\n",
    "# dibenn al listenn betek ar penn kentañ\n",
    "print(\"Elfenn diwezhañ, adarre :\", liviou[-1])\n",
    "print(\"Elfenn kentañ, adarre :\", liviou[-5])"
   ]
  },
  {
   "cell_type": "code",
   "execution_count": null,
   "metadata": {
    "colab": {},
    "colab_type": "code",
    "id": "ZTdiWtMqvb_6"
   },
   "outputs": [],
   "source": [
    "# Evit kemm un elfenn nemetken e-barzh al listenn e vez implijet e index ivez\n",
    "\n",
    "print(\"Araok ma vefe cheñchet :\")\n",
    "print(liviou)\n",
    "\n",
    "liviou[2] = \"mouk\"\n",
    "liviou[0] = \"gwenn\"\n",
    "print(\"Goude ma vefe cheñchet :\")\n",
    "print(liviou)"
   ]
  },
  {
   "cell_type": "markdown",
   "metadata": {},
   "source": [
    "### Poelladennoù :"
   ]
  },
  {
   "cell_type": "code",
   "execution_count": null,
   "metadata": {},
   "outputs": [],
   "source": [
    "# Krouit ul listenn gant 5 anv loened disheñvel\n",
    "loened = # DA SKRIVAÑ\n",
    "\n",
    "# Ouzhpennit ul loen gant ar metod 'append'\n",
    "# DA SKRIVAÑ\n"
   ]
  },
  {
   "cell_type": "code",
   "execution_count": null,
   "metadata": {},
   "outputs": [],
   "source": [
    "# Lakit elfenn kentañ o listenn e-barzh ar varien 'kentan'\n",
    "kentan = # DA SKRIVAÑ\n",
    "\n",
    "# Lakit elfenn diwezhañ o listenn e-barzh ar varien 'diwezhan'\n",
    "diwezhan = # DA SKRIVAÑ"
   ]
  },
  {
   "cell_type": "markdown",
   "metadata": {},
   "source": [
    "## Skarzhañ elfennoù"
   ]
  },
  {
   "cell_type": "code",
   "execution_count": null,
   "metadata": {
    "colab": {},
    "colab_type": "code",
    "id": "V6K8ideZyFsj"
   },
   "outputs": [],
   "source": [
    "# Evit skarzhañ un elfenn eus al listenn e vez implijet ar ger \"del\"\n",
    "\n",
    "print(liviou)\n",
    "\n",
    "del liviou[1]\n",
    "print(liviou)\n",
    "\n",
    "del liviou[1]\n",
    "print(liviou)"
   ]
  },
  {
   "cell_type": "code",
   "execution_count": null,
   "metadata": {
    "colab": {
     "base_uri": "https://localhost:8080/",
     "height": 34
    },
    "colab_type": "code",
    "executionInfo": {
     "elapsed": 675,
     "status": "ok",
     "timestamp": 1568567020443,
     "user": {
      "displayName": "Gweltaz Duval-Guennoc",
      "photoUrl": "",
      "userId": "07041882788500535840"
     },
     "user_tz": -120
    },
    "id": "nqj7R24c6unq",
    "outputId": "40e0ba10-f28b-4d47-ab15-ebe50f6cb446"
   },
   "outputs": [],
   "source": [
    "# Un eil doare da skarzhañ un elfenn, dre ar metod \"remove\"\n",
    "# Implijet e vez talvoud an elfenn kentoc'h eget e index gant ar metod-se\n",
    "\n",
    "liviou = [\"glas\", \"melen\", \"du\", \"gwer\", \"ruz\", \"bananezenn\", \"gwenn\"]\n",
    "liviou.remove(\"bananezenn\")\n",
    "\n",
    "print(liviou)"
   ]
  },
  {
   "cell_type": "markdown",
   "metadata": {
    "colab_type": "text",
    "id": "_WMatLIhzSeZ"
   },
   "source": [
    "Evit tizhout un heuliad elfennoù e vez implijet daou **index** gant an arouez `:` etrezo. Index an eil bevenn a vo en diavaez (*exclus*).<br>\n",
    "Ma vez lesket goulo ar c'hentañ index e krogo adalek penn kentañ al listenn.<br>\n",
    "Ma vez lesket goulo an eil index ez aio betek fin al listenn."
   ]
  },
  {
   "cell_type": "code",
   "execution_count": null,
   "metadata": {
    "colab": {},
    "colab_type": "code",
    "id": "DcoyRKZIzq-Z"
   },
   "outputs": [],
   "source": [
    "listenn = [1.0, 1.1, 1.2, 1.3, 1.4, 1.5, 1.6, 1.7, 1.8, 1.9, 2.0]\n",
    "\n",
    "# Div elfenn da heul, o kregiñ gant eil elfenn al listenn\n",
    "print(listenn[1:3])\n",
    "\n",
    "# Un heuliad all, o kregiñ gant ar pempved elfenn\n",
    "print(listenn[4:8])\n",
    "\n",
    "# Eus ar c'hwec'hvet elfenn betek ar fin\n",
    "print(listenn[5:])\n",
    "\n",
    "# Eus ar c'hentañ elfenn betek an trede hini (e-barzh)\n",
    "print(listenn[:3])\n",
    "\n",
    "# Al listenn a-bezh\n",
    "print(listenn[:])"
   ]
  },
  {
   "cell_type": "markdown",
   "metadata": {
    "colab_type": "text",
    "id": "tkmfQ9tg3_sn"
   },
   "source": [
    "Evit gwiriekaat ma vez kavet un elfenn bennak e-barzh al listenn e c'hellomp implij ar metod `index` pe ar ger ispisial `in`"
   ]
  },
  {
   "cell_type": "code",
   "execution_count": null,
   "metadata": {
    "colab": {},
    "colab_type": "code",
    "id": "tpYDX1Xm4ScX"
   },
   "outputs": [],
   "source": [
    "print(liviou)\n",
    "\n",
    "# Ar metod \"index\" a adkas renk en elfenn e barzh al listenn, m'az eo kavet\n",
    "print(liviou.index(\"du\"))\n",
    "\n",
    "# Diwallit, ma ne vez ket kavet an elfenn e vo degaset ur fazi gant ar jubenner.\n",
    "# Deoc'h da tennañ an arouez evezhiadenn '#' evit gwelet an disoc'h\n",
    "#liviou.index(\"gell\")\n",
    "\n",
    "# Ma n'o peus ket ezhomm gouzout ar renk, gwelloc'h eo implij ar ger \"in\"\n",
    "# Gant \"in\" e vez gwiriekeet m'az eo an elfenn aze pe get.\n",
    "# Adkaset e vez \"True\" (gwir) pe \"False\" (gaou)\n",
    "print(\"gwer\" in liviou)\n",
    "print(\"erc'h\" in liviou)"
   ]
  },
  {
   "cell_type": "markdown",
   "metadata": {
    "colab_type": "text",
    "id": "p3I3UNZp9kVA"
   },
   "source": [
    "Chom a ra un bern traoù da gwelet diwar-benn al listennoù met al lod vrasañ eus an traoù-se ne vo morse implijet ganeomp. Traoù all a vo dizoloet tamm-ha-tamm e kerz ar c'hentelioù programiñ o tont. Reiñ a rin un nebeut fonksionoù ha metodoù pouesuz nemetken evit echuiñ ar pennad-se."
   ]
  },
  {
   "cell_type": "code",
   "execution_count": null,
   "metadata": {
    "colab": {},
    "colab_type": "code",
    "id": "Efo2wG3C-moQ"
   },
   "outputs": [],
   "source": [
    "# Lakaat ul listenn en urzh\n",
    "\n",
    "dizurzh = [\"chokolad\", \"madigoù\", \"soubenn\", \"koumoul\", \"aval\", \"urzhiataer\"]\n",
    "\n",
    "# Gant ar fonksion \"sorted\" e vez adkaset une listenn nevez hag a zo\n",
    "# ur c'hopienn lakaet en-urzh eus al listenn roet en arguzenn\n",
    "# Al listenn orin n'eo ket cheñchet\n",
    "en_urzh = sorted(dizurzh)\n",
    "print(en_urzh)\n",
    "print(dizurzh)\n",
    "\n",
    "# Ar metod \"sort\" a lak al listenn en-urzh dioustu, hep ober ur kopienn\n",
    "print('Ha bremañ gant ar metod \"sort\" :')\n",
    "dizurzh.sort()\n",
    "print(dizurzh)\n"
   ]
  },
  {
   "cell_type": "code",
   "execution_count": null,
   "metadata": {
    "colab": {},
    "colab_type": "code",
    "id": "czaUqMfvA2dR"
   },
   "outputs": [],
   "source": [
    "# Cheñch tu d'un listenn gant ar metod \"reverse\".\n",
    "# Cheñchet e vez al listenn hep ober a gopienn (evel ar metod sort).\n",
    "print(en_urzh)\n",
    "en_urzh.reverse()\n",
    "print(en_urzh)"
   ]
  },
  {
   "cell_type": "code",
   "execution_count": null,
   "metadata": {
    "colab": {
     "base_uri": "https://localhost:8080/",
     "height": 237
    },
    "colab_type": "code",
    "executionInfo": {
     "elapsed": 607,
     "status": "error",
     "timestamp": 1570711901545,
     "user": {
      "displayName": "Gweltaz Duval-Guennoc",
      "photoUrl": "",
      "userId": "07041882788500535840"
     },
     "user_tz": -120
    },
    "id": "euxeLPqzBC-h",
    "outputId": "1a2347e1-ce4c-4828-e291-ce5dad652b1a"
   },
   "outputs": [],
   "source": [
    "# Kontañ ment ul listenn gant ar fonksion \"len\" (berradur \"length\" e saozneg)\n",
    "print(liviou)\n",
    "print(len(liviou))\n",
    "\n",
    "# Ar fonction \"len\" a c'hell bezañ implijet gant chadennoù lizherennek ivez\n",
    "print(len(\"anticonstitutionnellement\"))"
   ]
  }
 ],
 "metadata": {
  "colab": {
   "collapsed_sections": [],
   "name": "Kentel_Python_01.ipynb",
   "provenance": []
  },
  "kernelspec": {
   "display_name": "Python 3",
   "language": "python",
   "name": "python3"
  },
  "language_info": {
   "codemirror_mode": {
    "name": "ipython",
    "version": 3
   },
   "file_extension": ".py",
   "mimetype": "text/x-python",
   "name": "python",
   "nbconvert_exporter": "python",
   "pygments_lexer": "ipython3",
   "version": "3.7.3"
  }
 },
 "nbformat": 4,
 "nbformat_minor": 1
}

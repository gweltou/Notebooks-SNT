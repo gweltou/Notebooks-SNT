{
 "cells": [
  {
   "cell_type": "markdown",
   "metadata": {},
   "source": [
    "# Kentel Python3 - Geriadurioù"
   ]
  },
  {
   "cell_type": "markdown",
   "metadata": {
    "colab_type": "text",
    "id": "kXHZBkWa8bCc"
   },
   "source": [
    "## Ar geriadurioù (`dict`)"
   ]
  },
  {
   "cell_type": "markdown",
   "metadata": {
    "colab_type": "text",
    "id": "pHma-f6-9iFY"
   },
   "source": [
    "Gwelet e vo ur framm data diwezhañ a vez implijet gant Python : ar geriadurioù. Frammoù data all zo c'hoaz met n'oc'h ket rediet deskiñ anezho el lise. Paouezet e vo aze evit chomm simpl."
   ]
  },
  {
   "cell_type": "markdown",
   "metadata": {
    "colab_type": "text",
    "id": "dWQsOMKnBvw4"
   },
   "source": [
    "Ur geriadur a vez implijet evit liammañ en un doare **untuek** [unilatéral] talvoudoù (an alc'hwezioù) gant talvoudoù all. Pep alc'hwez a zo **unanel** [unique] er geriadur ha **liammet gant un talvoud nemetken**.<br>\n",
    "An **alc'hwezioù** hag an talvoudoù liammet dezho a c'hellont bezañ eus neusforz peseurt framm data (nemet listennoù evit an alc'hwezioù). Un talvoud liammet a c'hell bezañ ul listenn memes tra. Alies e vez implijet chadennoù lizherennek evit an alc'hwezioù. "
   ]
  },
  {
   "cell_type": "code",
   "execution_count": 0,
   "metadata": {
    "colab": {},
    "colab_type": "code",
    "id": "ft84j0P2qK9y"
   },
   "outputs": [],
   "source": [
    "# Setu penaos deraouiñ ur geriadur goulo\n",
    "geriadur = {}\n",
    "# pe (memes efed)\n",
    "geriadur = dict()"
   ]
  },
  {
   "cell_type": "markdown",
   "metadata": {
    "colab_type": "text",
    "id": "LFBL1vtw4jIP"
   },
   "source": [
    "Tu 'zo ivez deraouiñ ur geriadur gant talvoudoù e-barzh.<br>\n",
    "D'ar mare-se e vez dispartiet an alc'hwez diouzh an talvoud gant daou pik '`:`' ha dispartiet e vez pep koublad alc'hwez/talvoud gant ur skej."
   ]
  },
  {
   "cell_type": "code",
   "execution_count": 0,
   "metadata": {
    "colab": {},
    "colab_type": "code",
    "id": "laPAl9dEDc-z"
   },
   "outputs": [],
   "source": [
    "# Deraouet eo bet ar geriadur-se war meur a linennoù evit ma vefe aesoc'h da\n",
    "# lenn met tu 'zo skrivañ pep tra war ul linenn nemetken ma kavoc'h gwelloc'h\n",
    "poblans_keriou = {\"Shanghai\" : 24_153_000,\n",
    "                  \"Beijing\"  : 18_590_000,\n",
    "                  \"Karachi\"  : 18_000_000,\n",
    "                  \"Istanbul\" : 14_657_000,\n",
    "                  \"Dhaka\"    : 14_543_000,\n",
    "                  \"Tokyo\"    : 13_617_000,\n",
    "                  \"Moscow\"   : 13_197_596}"
   ]
  },
  {
   "cell_type": "code",
   "execution_count": 0,
   "metadata": {
    "colab": {},
    "colab_type": "code",
    "id": "fT-v8AF6y7yE"
   },
   "outputs": [],
   "source": [
    "# Kaout ment ar geriadur (niver a alc'hwez e-barzh)\n",
    "len(poblans_keriou)"
   ]
  },
  {
   "cell_type": "markdown",
   "metadata": {
    "colab_type": "text",
    "id": "VIqVBI4A6HDI"
   },
   "source": [
    "Tizhet e vez talvoudoù ur geriadur un tamm evel re un listenn met roet e vez un alc'hwez kentoc'h eget un index."
   ]
  },
  {
   "cell_type": "code",
   "execution_count": 0,
   "metadata": {
    "colab": {},
    "colab_type": "code",
    "id": "HlRSt2wp6kYk"
   },
   "outputs": [],
   "source": [
    "poblans_keriou[\"Tokyo\"]"
   ]
  },
  {
   "cell_type": "code",
   "execution_count": 0,
   "metadata": {
    "colab": {},
    "colab_type": "code",
    "id": "1gbOMtdr6p-q"
   },
   "outputs": [],
   "source": [
    "# Diwallit chomm hep implij alc'hwezioù n'int ket bet termenet\n",
    "poblans_keriou[\"Pariz\"]"
   ]
  },
  {
   "cell_type": "code",
   "execution_count": 0,
   "metadata": {
    "colab": {},
    "colab_type": "code",
    "id": "stTFZFAs66Ro"
   },
   "outputs": [],
   "source": [
    "# Tu 'zo deoc'h gwiriekaat ma vo kavet an alc'hwez er geriadur da gentañ gant 'in'\n",
    "\"Pariz\" in poblans_keriou"
   ]
  },
  {
   "cell_type": "markdown",
   "metadata": {
    "colab_type": "text",
    "id": "joMTV8xz7O61"
   },
   "source": [
    "Tu zo deoc'h ouzhpennañ titouroù er geriadur gant an arouez kemm '`=`' o implijout un alc'hwez nevez etre krochedoù karrez."
   ]
  },
  {
   "cell_type": "code",
   "execution_count": 0,
   "metadata": {
    "colab": {},
    "colab_type": "code",
    "id": "uF78V_1y704W"
   },
   "outputs": [],
   "source": [
    "poblans_keriou[\"Brest\"] = 319_947\n",
    "poblans_keriou[\"Kerlouan\"] = 2163"
   ]
  },
  {
   "cell_type": "markdown",
   "metadata": {
    "colab_type": "text",
    "id": "jkm2AftA9b6N"
   },
   "source": [
    "Tu 'zo cheñch un talvoud liammet gant un alc'hwez dre ar memes doare."
   ]
  },
  {
   "cell_type": "code",
   "execution_count": 0,
   "metadata": {
    "colab": {},
    "colab_type": "code",
    "id": "ybcg5FpH9r76"
   },
   "outputs": [],
   "source": [
    "poblans_keriou[\"Kerlouan\"] += 1\n",
    "print(poblans_keriou[\"Kerlouan\"])"
   ]
  },
  {
   "cell_type": "code",
   "execution_count": 0,
   "metadata": {
    "colab": {},
    "colab_type": "code",
    "id": "NW864IeH8EI3"
   },
   "outputs": [],
   "source": [
    "# Gant ar metod 'keys' e c'heller kaout ul listenn gant alc'hwezioù ar geriadur\n",
    "# nemetken\n",
    "for k in poblans_keriou.keys():\n",
    "    print(k)"
   ]
  },
  {
   "cell_type": "code",
   "execution_count": 0,
   "metadata": {
    "colab": {},
    "colab_type": "code",
    "id": "agakCiUw-cxb"
   },
   "outputs": [],
   "source": [
    "# Gant ar metod 'values' e c'heller kaout listenn an talvoudoù nemetken\n",
    "print(\"Sammad poblañs :\", sum(poblans_keriou.values()))"
   ]
  },
  {
   "cell_type": "markdown",
   "metadata": {
    "colab_type": "text",
    "id": "ethDg642_g2h"
   },
   "source": [
    "### Ur skouer kriptografiez"
   ]
  },
  {
   "cell_type": "code",
   "execution_count": 0,
   "metadata": {
    "colab": {},
    "colab_type": "code",
    "id": "7GmWtZj2FTqd"
   },
   "outputs": [],
   "source": [
    "# Setu un doare kriptografiez simpl da lakaat e pleustr\n",
    "import random\n",
    "\n",
    "lizherenneg = list(\"ABCDEFGHIJKLMNOPQRSTUVWXYZÙÑabcdefghijklmnopqrstuvwxyzùñ\")\n",
    "\n",
    "# Kopiet e vez al listenn lizherenneg ha mesket e vez\n",
    "# Ezhomm zo implij an notadur '[:]' evit kopiañ al listenn penn-da-benn\n",
    "mesket = lizherenneg[:]\n",
    "random.shuffle(mesket)\n",
    "\n",
    "print(\"Mesket :\", mesket)\n",
    "\n",
    "# krouet e vez ur geriadur goulo ha leuniet e vez gant al lizherenneg\n",
    "geriadur = dict()\n",
    "for i in range(len(lizherenneg)):\n",
    "    # Liammet e vez pep lizherenn eus al lizherenneg gant unan all mesket\n",
    "    geriadur[lizherenneg[i]] = mesket[i]\n"
   ]
  },
  {
   "cell_type": "code",
   "execution_count": 0,
   "metadata": {
    "colab": {},
    "colab_type": "code",
    "id": "n6C4MclCIJid"
   },
   "outputs": [],
   "source": [
    "# Bremañ e vo troet ur frazenn gant ar geriadur on eus krouet\n",
    "\n",
    "frazenn = \"Salud, mont a ra mat ganeoc'h ? Emichañs ne gomprenoc'h netra eus ar pezh a lavaran.\"\n",
    "\n",
    "kuzet = \"\"\n",
    "for lizher in frazenn:\n",
    "    if lizher in geriadur:\n",
    "        # Troet e vez al lizherenn ma vez kavet anezhi er geriadur\n",
    "        kuzet += geriadur[lizher]\n",
    "    else:\n",
    "        # Miret e vez al lizherenn a orin ma ne vez ket kavet anezhi er geriadur\n",
    "        kuzet += lizher\n",
    "\n",
    "print(kuzet)"
   ]
  },
  {
   "cell_type": "markdown",
   "metadata": {
    "colab_type": "text",
    "id": "tFAhs7zkAeqG"
   },
   "source": [
    "### Poelladenn : Eilpennañ ar geriadur kriptañ"
   ]
  },
  {
   "cell_type": "markdown",
   "metadata": {
    "colab_type": "text",
    "id": "ODYmN5R9BX4o"
   },
   "source": [
    "N'eo ket dreist c'hoazh omp poellad evit kriptañ frazennoù. Evel ma ne vez ket cheñchet ar poentadur e c'heller divinout al lizherenn **`c'h`**. Digudenn eo treiñ en dro al lizherennoù **`c'h`** ha **`h`** neuze.<br>\n",
    "Krogit da wellaat ar poellad o klokaat al lizherenneg gant an arouezioù poentadur ha gant an essaouenn."
   ]
  },
  {
   "cell_type": "code",
   "execution_count": 0,
   "metadata": {
    "colab": {},
    "colab_type": "code",
    "id": "RP3YpV4ZFFWL"
   },
   "outputs": [],
   "source": [
    "import random\n",
    "\n",
    "lizherenneg = # DA KLOKAAT"
   ]
  },
  {
   "cell_type": "code",
   "execution_count": 0,
   "metadata": {
    "colab": {},
    "colab_type": "code",
    "id": "apHDHPDVF1Ub"
   },
   "outputs": [],
   "source": [
    "def sevelGeriadurKriptan(lizherenneg):\n",
    "    # Ar fonksion 'sevelGeriadurKriptan' a gortoz listenn al lizherenneg\n",
    "    # adkas a ra ur gariadur gant an talvoudoù mesket, da implij evit kriptañ\n",
    "    geriadur = dict()\n",
    "    # DA KLOKAAT\n",
    "\n",
    "    return geriadur"
   ]
  },
  {
   "cell_type": "markdown",
   "metadata": {
    "colab_type": "text",
    "id": "Zg_0q_phLxr6"
   },
   "source": [
    "Bremañ skrivit ur fonksion a c'hortoz div arguzenn, ur frazenn (chadenn lizherennek) da kriptañ hag ur geriadur da implij evit kriptañ."
   ]
  },
  {
   "cell_type": "code",
   "execution_count": 0,
   "metadata": {
    "colab": {},
    "colab_type": "code",
    "id": "wchKt7IIL_Cj"
   },
   "outputs": [],
   "source": [
    "def kriptan(frazenn, geriadur):\n",
    "    # frazenn : ur chadenn lizherennek da kriptañ\n",
    "    # geriadur : ur geriadur da implij evit kriptañ\n",
    "    # Adkaset e vez ar frazenn kriptet (ur chadenn lizherennek nevez)\n",
    "    kuzet = \"\"\n",
    "    # DA KLOKAAT\n",
    "\n",
    "    return kuzet"
   ]
  },
  {
   "cell_type": "markdown",
   "metadata": {
    "colab_type": "text",
    "id": "CdwIFNavMZ8z"
   },
   "source": [
    "Evit echuiñ, skrivit ur fonksion a gemer ur geriadur e arguzenn hag a adkas ar geriadur eilpennet. "
   ]
  },
  {
   "cell_type": "code",
   "execution_count": 0,
   "metadata": {
    "colab": {},
    "colab_type": "code",
    "id": "kfh-Uy_7M9ag"
   },
   "outputs": [],
   "source": [
    "def eilpennan(geriadur):\n",
    "    # Adkaset e vez ur kopienn eus ar geriadur eilpennet\n",
    "    geriadur_eilpennet = dict()\n",
    "    # DA KLOKAAT\n",
    "\n",
    "    return geriadur_eilpennet"
   ]
  }
 ],
 "metadata": {
  "kernelspec": {
   "display_name": "Python 3",
   "language": "python",
   "name": "python3"
  },
  "language_info": {
   "codemirror_mode": {
    "name": "ipython",
    "version": 3
   },
   "file_extension": ".py",
   "mimetype": "text/x-python",
   "name": "python",
   "nbconvert_exporter": "python",
   "pygments_lexer": "ipython3",
   "version": "3.7.3"
  }
 },
 "nbformat": 4,
 "nbformat_minor": 2
}

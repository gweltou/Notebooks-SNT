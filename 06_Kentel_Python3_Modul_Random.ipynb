{
 "cells": [
  {
   "cell_type": "markdown",
   "metadata": {},
   "source": [
    "# Kentel Python3 - Ar modul `random`"
   ]
  },
  {
   "cell_type": "markdown",
   "metadata": {
    "colab_type": "text",
    "id": "_lSufAN3au6N"
   },
   "source": [
    "## Ar moduloù diavaez"
   ]
  },
  {
   "cell_type": "markdown",
   "metadata": {
    "colab_type": "text",
    "id": "545SZM4N99d4"
   },
   "source": [
    "Pa vez staliet Python war o urzhiataer e vez ivez staliet ur bern (meur a kantadoù) moduloù ouzhpenn gantañ. Ur **modul** a zo ul levraoueg fonksionnoù, konstantennoù ha frammoù data strollet dre arbennik. Kavet e vez ur modul evit ar foksionnoù matematikel, unan all evit ar fonksionoù a tenn eus ar rouedad, unan all c'hoaz evit kehentiñ gant ar sistem oberiant... Implijet e vez moduloù luziet evit sevel etrefasoù grafikel pe evit enframmañ un intent artifisiel en o programoù da skouer. Hollad ar moduloù-se, staliet dre ziouer gant Python, a vez galvet ar \"Python Standard Library\"."
   ]
  },
  {
   "cell_type": "markdown",
   "metadata": {
    "colab_type": "text",
    "id": "bE3eOM5OLW1E"
   },
   "source": [
    "Ouzhpenn ar moduloù kavet er \"Python Standard Library\" ez eus tu staliañ ur bern moduloù all hervez o ezhommoù.<br>\n",
    "War al lec'hienn www.pypi.org e c'heller kavout tost da 200 000 eus outo. Evit staliañ ur modul nevez e vez implijet ar meiziant `pip` met ne vo ket displeget penaos en ober amañ.\n",
    "\n",
    "\n"
   ]
  },
  {
   "cell_type": "code",
   "execution_count": 0,
   "metadata": {
    "colab": {},
    "colab_type": "code",
    "id": "2ofQqoLOI5QT"
   },
   "outputs": [],
   "source": [
    "# Peurgasit ar stadamant-se evit gwelet ar moduloù dija staliet war o urzhiataer\n",
    "# (pe kentoc'h staliet gant an notebook mañ)\n",
    "\n",
    "help(\"modules\")"
   ]
  },
  {
   "cell_type": "markdown",
   "metadata": {
    "colab_type": "text",
    "id": "ej6_IDuq6EoX"
   },
   "source": [
    "Implijet e vez ar stadamant `import` evit emporzhiañ ur modul e-barzh o program. Meur a doare 'zo d'en ober, hervez m'ho peus c'hoant emporzhiañ tout ar fonksionoù a vez kavet er modul pe un lodenn nemetken."
   ]
  },
  {
   "cell_type": "code",
   "execution_count": 0,
   "metadata": {
    "colab": {},
    "colab_type": "code",
    "id": "cvuB2s0F6an_"
   },
   "outputs": [],
   "source": [
    "# Emporzhiañ ar modul 'math' evit kaout fonksionoù matematikel boutin\n",
    "import math"
   ]
  },
  {
   "cell_type": "code",
   "execution_count": 0,
   "metadata": {
    "colab": {},
    "colab_type": "code",
    "id": "KseliYtpxbg5"
   },
   "outputs": [],
   "source": [
    "# Gant ar fonksion 'dir' e c'heller gwelet tout an objedoù staget ouzh ar modul\n",
    "dir(math)"
   ]
  },
  {
   "cell_type": "code",
   "execution_count": 0,
   "metadata": {
    "colab": {},
    "colab_type": "code",
    "id": "kVR9TKV4zU6O"
   },
   "outputs": [],
   "source": [
    "# Dalc'hit soñj e c'heller kaout sikour gant ar fonksion 'help'\n",
    "help(math.sqrt)"
   ]
  },
  {
   "cell_type": "code",
   "execution_count": 0,
   "metadata": {
    "colab": {},
    "colab_type": "code",
    "id": "kNnY_70_7XOC"
   },
   "outputs": [],
   "source": [
    "# Bremañ e c'heller gerver ar fonksionoù nevez emporzhiet gant ar prefix 'math'\n",
    "math.sin(7.5)"
   ]
  },
  {
   "cell_type": "code",
   "execution_count": 0,
   "metadata": {
    "colab": {},
    "colab_type": "code",
    "id": "iOxgjNyP7uGV"
   },
   "outputs": [],
   "source": [
    "# Emporzhiet e vez ivez konstantennoù liammet d'ar matematikoù\n",
    "print(\"pi :\", math.pi)\n"
   ]
  },
  {
   "cell_type": "markdown",
   "metadata": {
    "colab_type": "text",
    "id": "iqxv_-mG_AkC"
   },
   "source": [
    "Ma vez emporzhiet fonksionoù (hag all) en un doare hinienel gant ar ger `from` e c'heller gervel ar fonksionoù emporzhiet hep ar prefix."
   ]
  },
  {
   "cell_type": "code",
   "execution_count": 0,
   "metadata": {
    "colab": {},
    "colab_type": "code",
    "id": "Jhi0a8fZAPnb"
   },
   "outputs": [],
   "source": [
    "# Aze e vez emporzhiet ur fonksion nemetken\n",
    "from math import cos\n",
    "\n",
    "# Galvet e vez ar fonksion 'cos' hep ar prefix 'math' \n",
    "print(cos(23))"
   ]
  },
  {
   "cell_type": "code",
   "execution_count": 0,
   "metadata": {
    "colab": {},
    "colab_type": "code",
    "id": "SnGntbzvAuZP"
   },
   "outputs": [],
   "source": [
    "# Gallout a reor ivez emporzhiañ meur a fonksion en un tro\n",
    "from math import pi, cos, sin, tan\n",
    "\n",
    "print(cos(pi))\n",
    "print(sin(pi))\n",
    "print(tan(pi))"
   ]
  },
  {
   "cell_type": "code",
   "execution_count": 0,
   "metadata": {
    "colab": {},
    "colab_type": "code",
    "id": "nWWBpfswC7HM"
   },
   "outputs": [],
   "source": [
    "# Gant an arouez '*' e c'heller emporzhiañ pep tra kavet e diabarzh ur module\n",
    "from math import *"
   ]
  },
  {
   "cell_type": "markdown",
   "metadata": {
    "colab_type": "text",
    "id": "gk1jGWcGxhb8"
   },
   "source": [
    "Merzet o peus ne oa ket disoc'h sin($\\pi$) kevatal da 0 rik ?<br>\n",
    "Ur mare mat eo evit displegañ deoc'h ur gudenn diazez gant an urzhiataerioù. Ne c'hellon nemet stokañ niverennoù finit. Un niverenn evel $\\pi$ a rank neuze bezañ rontaet gant an urzhiataer ha setu perak e c'hellor kaout fazioù pa vez implijet niverennoù degel (`float`). "
   ]
  },
  {
   "cell_type": "code",
   "execution_count": 0,
   "metadata": {
    "colab": {},
    "colab_type": "code",
    "id": "WvpTGxQsyLze"
   },
   "outputs": [],
   "source": [
    "# Ur skouer all gant an niveroù degel\n",
    "0.1 + 0.2"
   ]
  },
  {
   "cell_type": "code",
   "execution_count": 0,
   "metadata": {
    "colab": {},
    "colab_type": "code",
    "id": "NEZR09Pe-hmU"
   },
   "outputs": [],
   "source": [
    "0.1 + 0.2 == 0.3"
   ]
  },
  {
   "cell_type": "markdown",
   "metadata": {
    "colab_type": "text",
    "id": "TjJRddQI8GjG"
   },
   "source": [
    "0.1 ha 0.2 a zo niverennoù degel finit, perak neuze n'eo ket an disoc'h kevatal da 0.3 rik ?<br>\n",
    "Peogwir pep niverenn a vez treuzkaset en diaz 2 (binarel) gant an urzhiataer. N'int ket muiñ 0.1 ha 0.2 finit pa vezont treuzkaset en diaz binarel. Gant an diaz binarel e vez finit ur niverenn nemet ma c'heller rannañ anezhi dre $2^n$.<br>\n",
    "**Diwallit pa labourit gant niverennoù float !**"
   ]
  },
  {
   "cell_type": "markdown",
   "metadata": {
    "colab_type": "text",
    "id": "kB_Ra7J8DrYl"
   },
   "source": [
    "## Ar modul `random`"
   ]
  },
  {
   "cell_type": "markdown",
   "metadata": {
    "colab_type": "text",
    "id": "TBSkVbsWEyVb"
   },
   "source": [
    "Er modul `random` e vez kavet ur bern ostilhoù evit produiñ talvoudoù dargouezhek [aléatoire]. An talvoudoù dargouezhek a vez implijet kalz er c'hoarioù video (evit darvanañ [simuler] un diñs da skouer) pe c'hoazh evit darvanañ fenomenoù fizikel pe biologel..."
   ]
  },
  {
   "cell_type": "code",
   "execution_count": 0,
   "metadata": {
    "colab": {},
    "colab_type": "code",
    "id": "i-xX4ZOMIOfg"
   },
   "outputs": [],
   "source": [
    "# Emporzhiañ ar fonksion 'random' eus ar modul 'random'\n",
    "from random import random"
   ]
  },
  {
   "cell_type": "code",
   "execution_count": 0,
   "metadata": {
    "colab": {},
    "colab_type": "code",
    "id": "kEkTeseIIWMe"
   },
   "outputs": [],
   "source": [
    "# Gant ar fonksion 'random' e vez adkaset un niverenn degel (float) dargouezhek\n",
    "# etre 0.0 hag 1.0\n",
    "# (Klikit meur a wech war ar bouton 'play' evit gwelet talvoudoù disheñvel)\n",
    "random()"
   ]
  },
  {
   "cell_type": "markdown",
   "metadata": {
    "colab_type": "text",
    "id": "NUKhgapoJXE9"
   },
   "source": [
    "Evit darvanañ un diñs ez eus tu lieskementiñ an talvoud adkaset gant `random` dre 6. Bez on o neuze un niverenn degel etre 0.0 ha 6.0.<br>\n",
    "$r \\in\\ ]0.0; 6.0[$<br>\n",
    "Implijet e vez ar fonksion `int` evit mirout lodenn anterin an niverenn adkaset. Bez on o neuze un niverenn anterin etre 0 ha 5.<br>\n",
    "$r \\in [0, 1, 2, 3, 4, 5]$<br>\n",
    "Ouzhpennet e vez 1 evit ma teufe an niverenn da vezañ etre 1 ha 6."
   ]
  },
  {
   "cell_type": "code",
   "execution_count": 0,
   "metadata": {
    "colab": {},
    "colab_type": "code",
    "id": "o74_usCGI4e3"
   },
   "outputs": [],
   "source": [
    "def taol_dins():\n",
    "    return int(random()*6)+1"
   ]
  },
  {
   "cell_type": "code",
   "execution_count": 0,
   "metadata": {
    "colab": {},
    "colab_type": "code",
    "id": "VSv1L0SDKgsu"
   },
   "outputs": [],
   "source": [
    "# Greomp 10 taol diñs\n",
    "\n",
    "for i in range(10):\n",
    "    print(taol_dins())"
   ]
  },
  {
   "cell_type": "markdown",
   "metadata": {
    "colab_type": "text",
    "id": "5BJAz5ljtTrk"
   },
   "source": [
    "Gwiriekomp dasparzh omp taolioù diñs en ur kontañ pep disoc'h gant ul listenn."
   ]
  },
  {
   "cell_type": "code",
   "execution_count": 0,
   "metadata": {
    "colab": {},
    "colab_type": "code",
    "id": "JOp_fgvKt4yb"
   },
   "outputs": [],
   "source": [
    "# Cheñchit an niver a taolioù diñs evit gwelet an efed war an dasparzh\n",
    "taoliou_dins = 100\n",
    "\n",
    "# Krouet e vez ul listenn deraouekaet gant 0ioù evit mirout an disoc'hou\n",
    "disochou = [0, 0, 0, 0, 0, 0]\n",
    "\n",
    "for i in range(taoliou_dins):\n",
    "    d = taol_dins()\n",
    "    disochou[d-1] += 1   # lemmet e vez 1 d'an index evit ma vefe etre 0 ha 5\n",
    "\n",
    "for i, d in enumerate(disochou):\n",
    "    print(i+1, ':', d, 100*d/taoliou_dins, '%')"
   ]
  },
  {
   "cell_type": "markdown",
   "metadata": {
    "colab_type": "text",
    "id": "VLqTqVmB4vL-"
   },
   "source": [
    "Fonksionoù dedennus all a c'heller kavout er modul `random`."
   ]
  },
  {
   "cell_type": "code",
   "execution_count": 0,
   "metadata": {
    "colab": {},
    "colab_type": "code",
    "id": "otVZRDryEF1p"
   },
   "outputs": [],
   "source": [
    "import random"
   ]
  },
  {
   "cell_type": "code",
   "execution_count": 0,
   "metadata": {
    "colab": {},
    "colab_type": "code",
    "id": "P4bXVMV85OBT"
   },
   "outputs": [],
   "source": [
    "# Sellit listennad ar fonksionoù emporzhiet gant ar modul 'random'\n",
    "dir(random)"
   ]
  },
  {
   "cell_type": "code",
   "execution_count": 0,
   "metadata": {
    "colab": {},
    "colab_type": "code",
    "id": "mAL4uIPJ0zCZ"
   },
   "outputs": [],
   "source": [
    "# Gant ar fonksion 'choice' e vez dibabet un elfenn dargouezhek\n",
    "# e-barzh un listennad\n",
    "random.choice(['mein', 'paper', 'sizailhoù'])"
   ]
  },
  {
   "cell_type": "code",
   "execution_count": 0,
   "metadata": {
    "colab": {},
    "colab_type": "code",
    "id": "kvFsj85rEFIb"
   },
   "outputs": [],
   "source": [
    "# Gant ar fonksion randint e vez adkaset un niverenn anterin e-barzh un interval\n",
    "# bevennet gant 2 arguzenn (ar bevennoù a vo e diabarzh an interval).\n",
    "# Ganti eo aesoc'h darvanañ un diñs eget araok.\n",
    "random.randint(1, 6)"
   ]
  },
  {
   "cell_type": "code",
   "execution_count": 0,
   "metadata": {
    "colab": {},
    "colab_type": "code",
    "id": "oXgCSVNKGLC3"
   },
   "outputs": [],
   "source": [
    "# Pe c'hoaz krouiñ un notenner automatek pleustrek tre.\n",
    "def notenner_automatek(dever):\n",
    "    notenn = random.randint(0, 20)\n",
    "    return str(notenn) + \"/20\"\n",
    "\n",
    "notenner_automatek(\"neusforz peseurt dever\")"
   ]
  },
  {
   "cell_type": "code",
   "execution_count": 0,
   "metadata": {
    "colab": {},
    "colab_type": "code",
    "id": "Fp62nrsX3tPn"
   },
   "outputs": [],
   "source": [
    "# Ar fonksion 'gauss' a adkas niverennoù dargouezhek gant un dasparzh gaussian\n",
    "# (pe normal).\n",
    "# Gortoz a ra div arguzenn : un geidenn hag un distok tip\n",
    "\n",
    "anviou_plach = [\"Gisèle\", \"Sophie\", \"Marie-Jo\", \"Renée\", \"Germaine\", \"Thérèse\", \"Andrée\", \"Ginette\"]\n",
    "anviou_paotr = [\"Marc\", \"Bertrand\", \"Robert\", \"René\", \"Germain\", \"Louis\", \"Marcel\", \"François\"]\n",
    "\n",
    "def urPlach():\n",
    "    ment = random.gauss(1.619, 0.065)\n",
    "    pouez = random.gauss(63, 11.2)\n",
    "    anv = random.choice(anviou_plach)\n",
    "    # Implijet e vez ar fonksion 'round' evit rontaat un talvoud\n",
    "    # an eil arguzenn a zo a niver a sifr degel\n",
    "    return [anv, round(ment, 2), round(pouez, 1)]\n",
    "\n",
    "def urPaotr():\n",
    "    ment = random.gauss(1.741, 0.071)\n",
    "    pouez = random.gauss(77, 11.1)\n",
    "    anv = random.choice(anviou_paotr)\n",
    "    return [anv, round(ment, 2), round(pouez, 1)]"
   ]
  },
  {
   "cell_type": "code",
   "execution_count": 0,
   "metadata": {
    "colab": {},
    "colab_type": "code",
    "id": "6v1yE-gjOhkM"
   },
   "outputs": [],
   "source": [
    "for i in range(5):\n",
    "    print(urPlach())\n",
    "\n",
    "for i in range(5):\n",
    "    print(urPaotr())"
   ]
  }
 ],
 "metadata": {
  "kernelspec": {
   "display_name": "Python 3",
   "language": "python",
   "name": "python3"
  },
  "language_info": {
   "codemirror_mode": {
    "name": "ipython",
    "version": 3
   },
   "file_extension": ".py",
   "mimetype": "text/x-python",
   "name": "python",
   "nbconvert_exporter": "python",
   "pygments_lexer": "ipython3",
   "version": "3.7.3"
  }
 },
 "nbformat": 4,
 "nbformat_minor": 2
}

{
 "cells": [
  {
   "cell_type": "markdown",
   "metadata": {
    "colab_type": "text",
    "id": "6Nlq4rgvakh_"
   },
   "source": [
    "# Kentel Python3 - An doareoù data elfennel"
   ]
  },
  {
   "cell_type": "markdown",
   "metadata": {
    "colab_type": "text",
    "id": "r_ajTm_EeTxl"
   },
   "source": [
    "Evit mont war-raok, pennad ha pennad, gant un Notebook ha peurgas ar pennadoù kod Python (ar re a grog gant an arouez **`[ ]`**) eo ret deoc'h pouezañ war <kbd>MAJ+ENTREE</kbd> bep gwech.<br>\n",
    "Tu 'zo deoc'h ivez cheñch an titouroù ho peus c'hoant e-barzh ar pennadoù kod evit kaout disoc'hoù disheñvel. Grit taolioù arnod evit kompren penaos ez a en dro an traoù !"
   ]
  },
  {
   "cell_type": "markdown",
   "metadata": {
    "colab_type": "text",
    "id": "5tDABXc-qEYU"
   },
   "source": [
    "Lennit pep tra a-raok mont war-raok !<br>\n",
    "Ken pouezus eo lenn an displegadennoù, ar c'hod Python hag an evezhiadennoù staget ouzh ar c'hod.<br>\n",
    "Klaskit kompren tout a pezh a zo skrivet araok peurgas ar c'helligoù kod."
   ]
  },
  {
   "cell_type": "markdown",
   "metadata": {
    "colab_type": "text",
    "id": "p7ffC9adnSbh"
   },
   "source": [
    "### An niveroù anterin (`int`)"
   ]
  },
  {
   "cell_type": "markdown",
   "metadata": {
    "colab_type": "text",
    "id": "GUE9TedJhbnA"
   },
   "source": [
    "An doare data simplañ a vez kavet e Python (hag er yezhoù programiñ all) a zo an niver anterin.<br>\n",
    "Galvet e vez an doare-se `int` e-diabarzh Python, diouzh ar saozneg *Integer*. E galleg e vez laret *nombre entier*.\n",
    "Tu zo dezho bezañ pozitivel pe negativel."
   ]
  },
  {
   "cell_type": "code",
   "execution_count": null,
   "metadata": {
    "colab": {},
    "colab_type": "code",
    "id": "-faCrzATiUzE",
    "scrolled": false
   },
   "outputs": [],
   "source": [
    "# Setu un nebeut skouerioù niveroù anterin e-diabarzh\n",
    "# jubenner (interpréteur) Python\n",
    "5\n",
    "-16\n",
    "4521\n",
    "\n",
    "# Ma vez hir an niverenn ez eus tu dispartiañ ar sifroù\n",
    "# gant an arouez '_' (underscore)\n",
    "13_654_135_465"
   ]
  },
  {
   "cell_type": "markdown",
   "metadata": {
    "colab_type": "text",
    "id": "axhDZHHMkK2f"
   },
   "source": [
    "Merzet ho peus, pa vez roet meur a stadamant da Python ne vez diskouezet nemet disoc'h ar stadamant diwezhañ.<br>\n",
    "Un dra pouezus all : al linennoù kod a grog gant an arouez `#` a vez lezet e-biou gant Python. Ne vint ket peurgaset.\n",
    "Implijet e vez an arouez-se evit skrivañ evezhiadennoù da zisplegañ en ur yezh sklaer pennadoù kod diaes da gompren.\n",
    "Tu 'zo ivez lakaat an arouez `#` dirak un linenn kod evit derc'hel ar jubenner da peurgas al linenn-se (evit klask dispartiañ ur fazi bennak da skouer)."
   ]
  },
  {
   "cell_type": "markdown",
   "metadata": {
    "colab_type": "text",
    "id": "iMmOJKKcnLDr"
   },
   "source": [
    "### An niveroù degel (`float`)"
   ]
  },
  {
   "cell_type": "markdown",
   "metadata": {
    "colab_type": "text",
    "id": "nNi8A1BGZDxh"
   },
   "source": [
    "Ouzhpenn an niveroù anterin e vez kavet ivez niveroù degel. Dispartiet e vez al lodenn anterin diouzh al lodenn degel gant ur **pik**.<br>\n",
    "Diwallit non pas implij ur skej e plas !<br>\n",
    "Kavet e vez niveroù degel pozitivel ha niveroù degel negativel, evel araok."
   ]
  },
  {
   "cell_type": "code",
   "execution_count": null,
   "metadata": {
    "colab": {},
    "colab_type": "code",
    "id": "LfW81yGBZDxt"
   },
   "outputs": [],
   "source": [
    "# Un nebeut niveroù degel\n",
    "3.141592\n",
    "0.5\n",
    "-0.333333333333\n"
   ]
  },
  {
   "cell_type": "markdown",
   "metadata": {
    "colab_type": "text",
    "id": "Q7_u9mxaopLg"
   },
   "source": [
    "### Ar chadennoù lizherennek (`str`)"
   ]
  },
  {
   "cell_type": "markdown",
   "metadata": {
    "colab_type": "text",
    "id": "KOrb1H0WpbFd"
   },
   "source": [
    "Gant an doare data-se e vez tu implij lizherennoù, gerioù pe destennoù a-bezh gant Python.<br>\n",
    "Diskleriet e vez ar chadennoù lizherennek etre skraboù `''` pe klochedigoù `\"\"`.<br>\n",
    "Diwallit non pas implij ar memes arouezioù e-diabarzh ho chadenn lizherennek !"
   ]
  },
  {
   "cell_type": "code",
   "execution_count": null,
   "metadata": {
    "colab": {},
    "colab_type": "code",
    "id": "N3wGt1-WrBVT"
   },
   "outputs": [],
   "source": [
    "\"Demat, bed karet !\"\n",
    "# a zo evel \n",
    "'Demat, bed karet !'"
   ]
  },
  {
   "cell_type": "markdown",
   "metadata": {
    "colab_type": "text",
    "id": "IqUQKrdIrjr9"
   },
   "source": [
    "Arabat e vo skrivañ :"
   ]
  },
  {
   "cell_type": "code",
   "execution_count": null,
   "metadata": {
    "colab": {},
    "colab_type": "code",
    "id": "B4SmdxzesECj"
   },
   "outputs": [],
   "source": [
    "# Diwallit d'ar fazi mañ\n",
    "\"\"Hir eo !\", a lavaras Lomig\""
   ]
  },
  {
   "cell_type": "markdown",
   "metadata": {
    "colab_type": "text",
    "id": "9u8x6G4QsgWr"
   },
   "source": [
    "Ar jubenner a roio deoc'h titouroù da zisplagañ ar fazi, e saozneg...<br>\n",
    "A-us eo bet laret deoc'h *SyntaxError: invalid syntax*. Talvezout a ra ez eus ur fazi en doare da vezañ skrivet ar stadamant (peogwir ez eo bet disoñjet un arouez bennak pe mesket un arouez gant unan all). Pouezus eo, evit **debugiñ** ur poellad, lenn ha kompren an evezhiadennoù adkaset gant ar jubenner diwar-benn ar fazioù."
   ]
  },
  {
   "cell_type": "code",
   "execution_count": null,
   "metadata": {
    "colab": {},
    "colab_type": "code",
    "id": "FbPVuYJ7slj1"
   },
   "outputs": [],
   "source": [
    "# Setu an doare reizh d'en ober dindan\n",
    "# Merzout a reoc'h an difoc'h ?\n",
    "'\"Hir eo !\", a lavaras Lomig'\n",
    "\n",
    "# Pe mod all\n",
    "\"al lizherenn c'h a vez implijet e brezhoneg\""
   ]
  },
  {
   "cell_type": "markdown",
   "metadata": {
    "colab_type": "text",
    "id": "3ont2M8ytIWK"
   },
   "source": [
    "Met penaos ober m'ho peus c'hoant implijout klochedigoù ha skraboù e-barzh ar memes chadenn lizherennek ?<br>\n",
    "Ret e vo neuze implij un arouez ispisial, an arouez achap `\\` (*caractère d'échappement*)<br>\n",
    "An arouez achap a lavar da Python ne vo ket al lizherenn o heuliañ ul lizherenn kustum.<br>\n",
    "<table>\n",
    "  <tr>\n",
    "    <th>Arouez</th>\n",
    "    <th>Disoc'h</th>\n",
    "  </tr>\n",
    "  <tr>\n",
    "    <td>\\'</td>\n",
    "    <td>Lakaat ur skrab e barzh ur chadenn lizherennek bevennet gant klochedigoù</td>\n",
    "  </tr>\n",
    "  <tr>\n",
    "    <td>\\\"</td>\n",
    "    <td>Lakaat ur c'hloched e barzh ur chadenn lizherennek bevennet gant skraboù</td>\n",
    "  </tr>\n",
    "  <tr>\n",
    "    <td>\\n</td>\n",
    "    <td>Lammat ul linenn</td>\n",
    "  </tr>\n",
    "  <tr>\n",
    "    <td>\\t</td>\n",
    "    <td>Lakaat un tab (tabulation)</td>\n",
    "  </tr>\n",
    "  <tr>\n",
    "    <td>\\\\</td>\n",
    "    <td>Lakaad an arouez \\ e barzh ur chadenn lizherennek</td>\n",
    "  </tr>\n",
    "</table>"
   ]
  },
  {
   "cell_type": "markdown",
   "metadata": {},
   "source": [
    "## Poelladennoù : Difaziit sintaks ar c'helligoù kod"
   ]
  },
  {
   "cell_type": "code",
   "execution_count": null,
   "metadata": {},
   "outputs": [],
   "source": [
    "\"\"\"Oh, pegen brav !\", eme an aotrou Madec\""
   ]
  },
  {
   "cell_type": "code",
   "execution_count": null,
   "metadata": {},
   "outputs": [],
   "source": [
    "\"\"Perak-ta ?\", a c'houlennas Yann-Vari\""
   ]
  },
  {
   "cell_type": "code",
   "execution_count": null,
   "metadata": {},
   "outputs": [],
   "source": [
    "'Desket e vez gwelloc'h en ur c'hoari'"
   ]
  },
  {
   "cell_type": "code",
   "execution_count": null,
   "metadata": {},
   "outputs": [],
   "source": [
    "# Amañ e vez gortozet ar respont '15.0'\n",
    "12,5 + 2.5"
   ]
  },
  {
   "cell_type": "markdown",
   "metadata": {},
   "source": [
    "## Ar fonksion `print`"
   ]
  },
  {
   "cell_type": "markdown",
   "metadata": {
    "colab_type": "text",
    "id": "HwMAO_-fovdW"
   },
   "source": [
    "Ur mare mat eo evit kinnig deoc'h ur fonksion kentañ a vez kavet e Python, ar fonksion `print`<br>\n",
    "Pal ar fonksion `print` a zo diskouez talvoudoù roet dezhi (niverel pe lizherennek) war ar skramm.<br>\n",
    "Evit peurgas ur fonksion e vez lakaet **krommelloù** da-heul. Etre ar c'hrommelloù ez eus tu reiñ roadennoù (*data*) d'ar fonksion evit ma vefe tretet ganti. Galvet e vez **arguzenn** pe **argumant** ar roadennoù kaset d'ur fonksion evel-se. Meur a arguzenn a zo tu kas d'ur fonksion en ur dispartiañ anezho gant ur **skej**.<br>\n",
    "Pa ne vez arguzenn ebet da reiñ d'ar fonksion e vez laosket goulo ar c'hrommelloù."
   ]
  },
  {
   "cell_type": "code",
   "execution_count": null,
   "metadata": {
    "colab": {},
    "colab_type": "code",
    "id": "ph5ymCMvruh5"
   },
   "outputs": [],
   "source": [
    "# Setu penaos implij ar fonksion print\n",
    "print(\"Labour 'zo !\")\n",
    "# print a c'hell diskouez doareoù data disheñvel\n",
    "print(12)\n",
    "print(45000000)\n",
    "\n",
    "# Aze e vez roet meur a arguzenn d'ar fonksion print\n",
    "# diskouezet e vo war ar skramm pep arguzenn dispartiet gant un esaouenn (espace)\n",
    "print(\"demat\", \"d'an\", \"holl\")"
   ]
  },
  {
   "cell_type": "code",
   "execution_count": null,
   "metadata": {
    "colab": {},
    "colab_type": "code",
    "id": "wcBstreWoNGV"
   },
   "outputs": [],
   "source": [
    "# Ur skouer o implij an arouez achap\n",
    "print(\"Ul linenn\\nUn eil linenn\\nUn trede linenn\")\n",
    "\n",
    "# Ha setu neuze penaos skrivañ un testenn gant klochedigoù ha skejoù\n",
    "print('\"Ha petra c\\'hoazh !?\", a huchas Alan')\n"
   ]
  },
  {
   "cell_type": "markdown",
   "metadata": {
    "colab_type": "text",
    "id": "gTija-HfMBV9"
   },
   "source": [
    "## Kavout sikour gant Python"
   ]
  },
  {
   "cell_type": "markdown",
   "metadata": {
    "colab_type": "text",
    "id": "Ntn8TlzkCr9Q"
   },
   "source": [
    "Diaes eo derc'hel soñj eus tout ar fonksionoù a vez kavet e-barzh Python ha penaos implij anezho, kement a zo. Ezhomm o po lenn ar mod-implij alies.\n",
    "Meur a doare a zo da gavout sikour gant ar yezh Python.<br>\n",
    "E diabarzh iPython, ar jubenner a vez kavet e-barzh Spyder da skouer, e c'heller skrivañ anv ur fonksion hag ur **pik goulennata** dioustu warlec'h evit ma vefe kaset un displegadenn diwar-benn ar fonksion-se.<br>\n",
    "En holl jubennerioù Python e vez ivez kavet ar fonksion `help` hag a ra ar memes tra. Pep tra a zo e saozneg siwaz."
   ]
  },
  {
   "cell_type": "code",
   "execution_count": null,
   "metadata": {
    "colab": {},
    "colab_type": "code",
    "id": "Au350ff5D7v_"
   },
   "outputs": [],
   "source": [
    "input?"
   ]
  },
  {
   "cell_type": "code",
   "execution_count": null,
   "metadata": {
    "colab": {},
    "colab_type": "code",
    "id": "cMXdQ93mDprL"
   },
   "outputs": [],
   "source": [
    "help(print)"
   ]
  },
  {
   "cell_type": "markdown",
   "metadata": {
    "colab_type": "text",
    "id": "T3AdPvhIELh-"
   },
   "source": [
    "Al lec'hienn WEB https://docs.python.org/3/reference a zo ur lec'h dreist evit kavout un deskrivadur munud eus pep elfenn ar yezh."
   ]
  },
  {
   "cell_type": "code",
   "execution_count": null,
   "metadata": {
    "colab": {
     "base_uri": "https://localhost:8080/",
     "height": 69
    },
    "colab_type": "code",
    "executionInfo": {
     "elapsed": 401,
     "status": "ok",
     "timestamp": 1570712143898,
     "user": {
      "displayName": "Gweltaz Duval-Guennoc",
      "photoUrl": "",
      "userId": "07041882788500535840"
     },
     "user_tz": -120
    },
    "id": "Znk4va88CmfM",
    "outputId": "a650cb82-5e6b-4e2a-c86b-44a24f0292f5"
   },
   "outputs": [],
   "source": [
    "print(\"Gourc'hemennoù, echuet o peus ar c'hentañ Notebook\")\n",
    "print()\n",
    "print(\"*\"*20 + \" THE END \" + \"*\"*20)"
   ]
  },
  {
   "cell_type": "markdown",
   "metadata": {
    "colab_type": "text",
    "id": "0R5eAWn6xHZ9"
   },
   "source": [
    "Ur bern doareoù all ez eus da implij ar fonksion `print`. Gwelet e vo anezho tamm ha tamm."
   ]
  }
 ],
 "metadata": {
  "colab": {
   "collapsed_sections": [],
   "name": "Kentel_Python_01.ipynb",
   "provenance": []
  },
  "kernelspec": {
   "display_name": "Python 3",
   "language": "python",
   "name": "python3"
  },
  "language_info": {
   "codemirror_mode": {
    "name": "ipython",
    "version": 3
   },
   "file_extension": ".py",
   "mimetype": "text/x-python",
   "name": "python",
   "nbconvert_exporter": "python",
   "pygments_lexer": "ipython3",
   "version": "3.7.3"
  }
 },
 "nbformat": 4,
 "nbformat_minor": 1
}
